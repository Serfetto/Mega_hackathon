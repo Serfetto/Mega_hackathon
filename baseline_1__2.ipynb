{
 "cells": [
  {
   "cell_type": "code",
   "execution_count": 1,
   "metadata": {
    "colab": {
     "base_uri": "https://localhost:8080/"
    },
    "id": "jC1A_-u_zLQh",
    "outputId": "e57b9ed6-ad4d-4d80-d7fa-fc766db4e6b8"
   },
   "outputs": [
    {
     "name": "stdout",
     "output_type": "stream",
     "text": [
      "Mounted at /content/drive/\n"
     ]
    }
   ],
   "source": [
    "from google.colab import drive\n",
    "drive.mount('/content/drive/')"
   ]
  },
  {
   "cell_type": "code",
   "execution_count": 2,
   "metadata": {
    "colab": {
     "base_uri": "https://localhost:8080/"
    },
    "id": "HokOuznMMJun",
    "outputId": "211ceed9-ca32-43dd-f41e-22272a5d0ae4"
   },
   "outputs": [
    {
     "name": "stdout",
     "output_type": "stream",
     "text": [
      "Collecting faiss-gpu\n",
      "  Downloading faiss_gpu-1.7.2-cp310-cp310-manylinux_2_17_x86_64.manylinux2014_x86_64.whl (85.5 MB)\n",
      "\u001b[2K     \u001b[90m━━━━━━━━━━━━━━━━━━━━━━━━━━━━━━━━━━━━━━━━\u001b[0m \u001b[32m85.5/85.5 MB\u001b[0m \u001b[31m11.2 MB/s\u001b[0m eta \u001b[36m0:00:00\u001b[0m\n",
      "\u001b[?25hInstalling collected packages: faiss-gpu\n",
      "Successfully installed faiss-gpu-1.7.2\n",
      "Collecting LangChain\n",
      "  Downloading langchain-0.0.340-py3-none-any.whl (2.0 MB)\n",
      "\u001b[2K     \u001b[90m━━━━━━━━━━━━━━━━━━━━━━━━━━━━━━━━━━━━━━━━\u001b[0m \u001b[32m2.0/2.0 MB\u001b[0m \u001b[31m14.3 MB/s\u001b[0m eta \u001b[36m0:00:00\u001b[0m\n",
      "\u001b[?25hRequirement already satisfied: PyYAML>=5.3 in /usr/local/lib/python3.10/dist-packages (from LangChain) (6.0.1)\n",
      "Requirement already satisfied: SQLAlchemy<3,>=1.4 in /usr/local/lib/python3.10/dist-packages (from LangChain) (2.0.23)\n",
      "Requirement already satisfied: aiohttp<4.0.0,>=3.8.3 in /usr/local/lib/python3.10/dist-packages (from LangChain) (3.8.6)\n",
      "Requirement already satisfied: anyio<4.0 in /usr/local/lib/python3.10/dist-packages (from LangChain) (3.7.1)\n",
      "Requirement already satisfied: async-timeout<5.0.0,>=4.0.0 in /usr/local/lib/python3.10/dist-packages (from LangChain) (4.0.3)\n",
      "Collecting dataclasses-json<0.7,>=0.5.7 (from LangChain)\n",
      "  Downloading dataclasses_json-0.6.2-py3-none-any.whl (28 kB)\n",
      "Collecting jsonpatch<2.0,>=1.33 (from LangChain)\n",
      "  Downloading jsonpatch-1.33-py2.py3-none-any.whl (12 kB)\n",
      "Collecting langsmith<0.1.0,>=0.0.63 (from LangChain)\n",
      "  Downloading langsmith-0.0.66-py3-none-any.whl (46 kB)\n",
      "\u001b[2K     \u001b[90m━━━━━━━━━━━━━━━━━━━━━━━━━━━━━━━━━━━━━━━━\u001b[0m \u001b[32m46.8/46.8 kB\u001b[0m \u001b[31m6.8 MB/s\u001b[0m eta \u001b[36m0:00:00\u001b[0m\n",
      "\u001b[?25hRequirement already satisfied: numpy<2,>=1 in /usr/local/lib/python3.10/dist-packages (from LangChain) (1.23.5)\n",
      "Requirement already satisfied: pydantic<3,>=1 in /usr/local/lib/python3.10/dist-packages (from LangChain) (1.10.13)\n",
      "Requirement already satisfied: requests<3,>=2 in /usr/local/lib/python3.10/dist-packages (from LangChain) (2.31.0)\n",
      "Requirement already satisfied: tenacity<9.0.0,>=8.1.0 in /usr/local/lib/python3.10/dist-packages (from LangChain) (8.2.3)\n",
      "Requirement already satisfied: attrs>=17.3.0 in /usr/local/lib/python3.10/dist-packages (from aiohttp<4.0.0,>=3.8.3->LangChain) (23.1.0)\n",
      "Requirement already satisfied: charset-normalizer<4.0,>=2.0 in /usr/local/lib/python3.10/dist-packages (from aiohttp<4.0.0,>=3.8.3->LangChain) (3.3.2)\n",
      "Requirement already satisfied: multidict<7.0,>=4.5 in /usr/local/lib/python3.10/dist-packages (from aiohttp<4.0.0,>=3.8.3->LangChain) (6.0.4)\n",
      "Requirement already satisfied: yarl<2.0,>=1.0 in /usr/local/lib/python3.10/dist-packages (from aiohttp<4.0.0,>=3.8.3->LangChain) (1.9.2)\n",
      "Requirement already satisfied: frozenlist>=1.1.1 in /usr/local/lib/python3.10/dist-packages (from aiohttp<4.0.0,>=3.8.3->LangChain) (1.4.0)\n",
      "Requirement already satisfied: aiosignal>=1.1.2 in /usr/local/lib/python3.10/dist-packages (from aiohttp<4.0.0,>=3.8.3->LangChain) (1.3.1)\n",
      "Requirement already satisfied: idna>=2.8 in /usr/local/lib/python3.10/dist-packages (from anyio<4.0->LangChain) (3.4)\n",
      "Requirement already satisfied: sniffio>=1.1 in /usr/local/lib/python3.10/dist-packages (from anyio<4.0->LangChain) (1.3.0)\n",
      "Requirement already satisfied: exceptiongroup in /usr/local/lib/python3.10/dist-packages (from anyio<4.0->LangChain) (1.1.3)\n",
      "Collecting marshmallow<4.0.0,>=3.18.0 (from dataclasses-json<0.7,>=0.5.7->LangChain)\n",
      "  Downloading marshmallow-3.20.1-py3-none-any.whl (49 kB)\n",
      "\u001b[2K     \u001b[90m━━━━━━━━━━━━━━━━━━━━━━━━━━━━━━━━━━━━━━━━\u001b[0m \u001b[32m49.4/49.4 kB\u001b[0m \u001b[31m7.3 MB/s\u001b[0m eta \u001b[36m0:00:00\u001b[0m\n",
      "\u001b[?25hCollecting typing-inspect<1,>=0.4.0 (from dataclasses-json<0.7,>=0.5.7->LangChain)\n",
      "  Downloading typing_inspect-0.9.0-py3-none-any.whl (8.8 kB)\n",
      "Collecting jsonpointer>=1.9 (from jsonpatch<2.0,>=1.33->LangChain)\n",
      "  Downloading jsonpointer-2.4-py2.py3-none-any.whl (7.8 kB)\n",
      "Requirement already satisfied: typing-extensions>=4.2.0 in /usr/local/lib/python3.10/dist-packages (from pydantic<3,>=1->LangChain) (4.5.0)\n",
      "Requirement already satisfied: urllib3<3,>=1.21.1 in /usr/local/lib/python3.10/dist-packages (from requests<3,>=2->LangChain) (2.0.7)\n",
      "Requirement already satisfied: certifi>=2017.4.17 in /usr/local/lib/python3.10/dist-packages (from requests<3,>=2->LangChain) (2023.7.22)\n",
      "Requirement already satisfied: greenlet!=0.4.17 in /usr/local/lib/python3.10/dist-packages (from SQLAlchemy<3,>=1.4->LangChain) (3.0.1)\n",
      "Requirement already satisfied: packaging>=17.0 in /usr/local/lib/python3.10/dist-packages (from marshmallow<4.0.0,>=3.18.0->dataclasses-json<0.7,>=0.5.7->LangChain) (23.2)\n",
      "Collecting mypy-extensions>=0.3.0 (from typing-inspect<1,>=0.4.0->dataclasses-json<0.7,>=0.5.7->LangChain)\n",
      "  Downloading mypy_extensions-1.0.0-py3-none-any.whl (4.7 kB)\n",
      "Installing collected packages: mypy-extensions, marshmallow, jsonpointer, typing-inspect, langsmith, jsonpatch, dataclasses-json, LangChain\n",
      "Successfully installed LangChain-0.0.340 dataclasses-json-0.6.2 jsonpatch-1.33 jsonpointer-2.4 langsmith-0.0.66 marshmallow-3.20.1 mypy-extensions-1.0.0 typing-inspect-0.9.0\n",
      "Collecting sentence-transformers\n",
      "  Downloading sentence-transformers-2.2.2.tar.gz (85 kB)\n",
      "\u001b[2K     \u001b[90m━━━━━━━━━━━━━━━━━━━━━━━━━━━━━━━━━━━━━━━━\u001b[0m \u001b[32m86.0/86.0 kB\u001b[0m \u001b[31m2.9 MB/s\u001b[0m eta \u001b[36m0:00:00\u001b[0m\n",
      "\u001b[?25h  Preparing metadata (setup.py) ... \u001b[?25l\u001b[?25hdone\n",
      "Requirement already satisfied: transformers<5.0.0,>=4.6.0 in /usr/local/lib/python3.10/dist-packages (from sentence-transformers) (4.35.2)\n",
      "Requirement already satisfied: tqdm in /usr/local/lib/python3.10/dist-packages (from sentence-transformers) (4.66.1)\n",
      "Requirement already satisfied: torch>=1.6.0 in /usr/local/lib/python3.10/dist-packages (from sentence-transformers) (2.1.0+cu118)\n",
      "Requirement already satisfied: torchvision in /usr/local/lib/python3.10/dist-packages (from sentence-transformers) (0.16.0+cu118)\n",
      "Requirement already satisfied: numpy in /usr/local/lib/python3.10/dist-packages (from sentence-transformers) (1.23.5)\n",
      "Requirement already satisfied: scikit-learn in /usr/local/lib/python3.10/dist-packages (from sentence-transformers) (1.2.2)\n",
      "Requirement already satisfied: scipy in /usr/local/lib/python3.10/dist-packages (from sentence-transformers) (1.11.3)\n",
      "Requirement already satisfied: nltk in /usr/local/lib/python3.10/dist-packages (from sentence-transformers) (3.8.1)\n",
      "Collecting sentencepiece (from sentence-transformers)\n",
      "  Downloading sentencepiece-0.1.99-cp310-cp310-manylinux_2_17_x86_64.manylinux2014_x86_64.whl (1.3 MB)\n",
      "\u001b[2K     \u001b[90m━━━━━━━━━━━━━━━━━━━━━━━━━━━━━━━━━━━━━━━━\u001b[0m \u001b[32m1.3/1.3 MB\u001b[0m \u001b[31m13.5 MB/s\u001b[0m eta \u001b[36m0:00:00\u001b[0m\n",
      "\u001b[?25hRequirement already satisfied: huggingface-hub>=0.4.0 in /usr/local/lib/python3.10/dist-packages (from sentence-transformers) (0.19.4)\n",
      "Requirement already satisfied: filelock in /usr/local/lib/python3.10/dist-packages (from huggingface-hub>=0.4.0->sentence-transformers) (3.13.1)\n",
      "Requirement already satisfied: fsspec>=2023.5.0 in /usr/local/lib/python3.10/dist-packages (from huggingface-hub>=0.4.0->sentence-transformers) (2023.6.0)\n",
      "Requirement already satisfied: requests in /usr/local/lib/python3.10/dist-packages (from huggingface-hub>=0.4.0->sentence-transformers) (2.31.0)\n",
      "Requirement already satisfied: pyyaml>=5.1 in /usr/local/lib/python3.10/dist-packages (from huggingface-hub>=0.4.0->sentence-transformers) (6.0.1)\n",
      "Requirement already satisfied: typing-extensions>=3.7.4.3 in /usr/local/lib/python3.10/dist-packages (from huggingface-hub>=0.4.0->sentence-transformers) (4.5.0)\n",
      "Requirement already satisfied: packaging>=20.9 in /usr/local/lib/python3.10/dist-packages (from huggingface-hub>=0.4.0->sentence-transformers) (23.2)\n",
      "Requirement already satisfied: sympy in /usr/local/lib/python3.10/dist-packages (from torch>=1.6.0->sentence-transformers) (1.12)\n",
      "Requirement already satisfied: networkx in /usr/local/lib/python3.10/dist-packages (from torch>=1.6.0->sentence-transformers) (3.2.1)\n",
      "Requirement already satisfied: jinja2 in /usr/local/lib/python3.10/dist-packages (from torch>=1.6.0->sentence-transformers) (3.1.2)\n",
      "Requirement already satisfied: triton==2.1.0 in /usr/local/lib/python3.10/dist-packages (from torch>=1.6.0->sentence-transformers) (2.1.0)\n",
      "Requirement already satisfied: regex!=2019.12.17 in /usr/local/lib/python3.10/dist-packages (from transformers<5.0.0,>=4.6.0->sentence-transformers) (2023.6.3)\n",
      "Requirement already satisfied: tokenizers<0.19,>=0.14 in /usr/local/lib/python3.10/dist-packages (from transformers<5.0.0,>=4.6.0->sentence-transformers) (0.15.0)\n",
      "Requirement already satisfied: safetensors>=0.3.1 in /usr/local/lib/python3.10/dist-packages (from transformers<5.0.0,>=4.6.0->sentence-transformers) (0.4.0)\n",
      "Requirement already satisfied: click in /usr/local/lib/python3.10/dist-packages (from nltk->sentence-transformers) (8.1.7)\n",
      "Requirement already satisfied: joblib in /usr/local/lib/python3.10/dist-packages (from nltk->sentence-transformers) (1.3.2)\n",
      "Requirement already satisfied: threadpoolctl>=2.0.0 in /usr/local/lib/python3.10/dist-packages (from scikit-learn->sentence-transformers) (3.2.0)\n",
      "Requirement already satisfied: pillow!=8.3.*,>=5.3.0 in /usr/local/lib/python3.10/dist-packages (from torchvision->sentence-transformers) (9.4.0)\n",
      "Requirement already satisfied: MarkupSafe>=2.0 in /usr/local/lib/python3.10/dist-packages (from jinja2->torch>=1.6.0->sentence-transformers) (2.1.3)\n",
      "Requirement already satisfied: charset-normalizer<4,>=2 in /usr/local/lib/python3.10/dist-packages (from requests->huggingface-hub>=0.4.0->sentence-transformers) (3.3.2)\n",
      "Requirement already satisfied: idna<4,>=2.5 in /usr/local/lib/python3.10/dist-packages (from requests->huggingface-hub>=0.4.0->sentence-transformers) (3.4)\n",
      "Requirement already satisfied: urllib3<3,>=1.21.1 in /usr/local/lib/python3.10/dist-packages (from requests->huggingface-hub>=0.4.0->sentence-transformers) (2.0.7)\n",
      "Requirement already satisfied: certifi>=2017.4.17 in /usr/local/lib/python3.10/dist-packages (from requests->huggingface-hub>=0.4.0->sentence-transformers) (2023.7.22)\n",
      "Requirement already satisfied: mpmath>=0.19 in /usr/local/lib/python3.10/dist-packages (from sympy->torch>=1.6.0->sentence-transformers) (1.3.0)\n",
      "Building wheels for collected packages: sentence-transformers\n",
      "  Building wheel for sentence-transformers (setup.py) ... \u001b[?25l\u001b[?25hdone\n",
      "  Created wheel for sentence-transformers: filename=sentence_transformers-2.2.2-py3-none-any.whl size=125923 sha256=1e3245a1b50edcd15e90e0f68cd9d099ab4961e4da56a75f80540f8dc13cb9d8\n",
      "  Stored in directory: /root/.cache/pip/wheels/62/f2/10/1e606fd5f02395388f74e7462910fe851042f97238cbbd902f\n",
      "Successfully built sentence-transformers\n",
      "Installing collected packages: sentencepiece, sentence-transformers\n",
      "Successfully installed sentence-transformers-2.2.2 sentencepiece-0.1.99\n",
      "Requirement already satisfied: pandas in /usr/local/lib/python3.10/dist-packages (1.5.3)\n",
      "Requirement already satisfied: python-dateutil>=2.8.1 in /usr/local/lib/python3.10/dist-packages (from pandas) (2.8.2)\n",
      "Requirement already satisfied: pytz>=2020.1 in /usr/local/lib/python3.10/dist-packages (from pandas) (2023.3.post1)\n",
      "Requirement already satisfied: numpy>=1.21.0 in /usr/local/lib/python3.10/dist-packages (from pandas) (1.23.5)\n",
      "Requirement already satisfied: six>=1.5 in /usr/local/lib/python3.10/dist-packages (from python-dateutil>=2.8.1->pandas) (1.16.0)\n",
      "Requirement already satisfied: numpy in /usr/local/lib/python3.10/dist-packages (1.23.5)\n",
      "Requirement already satisfied: pyarrow in /usr/local/lib/python3.10/dist-packages (9.0.0)\n",
      "Requirement already satisfied: numpy>=1.16.6 in /usr/local/lib/python3.10/dist-packages (from pyarrow) (1.23.5)\n",
      "Collecting fastparquet\n",
      "  Downloading fastparquet-2023.10.1-cp310-cp310-manylinux_2_17_x86_64.manylinux2014_x86_64.whl (1.7 MB)\n",
      "\u001b[2K     \u001b[90m━━━━━━━━━━━━━━━━━━━━━━━━━━━━━━━━━━━━━━━━\u001b[0m \u001b[32m1.7/1.7 MB\u001b[0m \u001b[31m13.6 MB/s\u001b[0m eta \u001b[36m0:00:00\u001b[0m\n",
      "\u001b[?25hRequirement already satisfied: pandas>=1.5.0 in /usr/local/lib/python3.10/dist-packages (from fastparquet) (1.5.3)\n",
      "Requirement already satisfied: numpy>=1.20.3 in /usr/local/lib/python3.10/dist-packages (from fastparquet) (1.23.5)\n",
      "Collecting cramjam>=2.3 (from fastparquet)\n",
      "  Downloading cramjam-2.7.0-cp310-cp310-manylinux_2_17_x86_64.manylinux2014_x86_64.whl (1.6 MB)\n",
      "\u001b[2K     \u001b[90m━━━━━━━━━━━━━━━━━━━━━━━━━━━━━━━━━━━━━━━━\u001b[0m \u001b[32m1.6/1.6 MB\u001b[0m \u001b[31m29.2 MB/s\u001b[0m eta \u001b[36m0:00:00\u001b[0m\n",
      "\u001b[?25hRequirement already satisfied: fsspec in /usr/local/lib/python3.10/dist-packages (from fastparquet) (2023.6.0)\n",
      "Requirement already satisfied: packaging in /usr/local/lib/python3.10/dist-packages (from fastparquet) (23.2)\n",
      "Requirement already satisfied: python-dateutil>=2.8.1 in /usr/local/lib/python3.10/dist-packages (from pandas>=1.5.0->fastparquet) (2.8.2)\n",
      "Requirement already satisfied: pytz>=2020.1 in /usr/local/lib/python3.10/dist-packages (from pandas>=1.5.0->fastparquet) (2023.3.post1)\n",
      "Requirement already satisfied: six>=1.5 in /usr/local/lib/python3.10/dist-packages (from python-dateutil>=2.8.1->pandas>=1.5.0->fastparquet) (1.16.0)\n",
      "Installing collected packages: cramjam, fastparquet\n",
      "Successfully installed cramjam-2.7.0 fastparquet-2023.10.1\n",
      "Requirement already satisfied: torch in /usr/local/lib/python3.10/dist-packages (2.1.0+cu118)\n",
      "Requirement already satisfied: filelock in /usr/local/lib/python3.10/dist-packages (from torch) (3.13.1)\n",
      "Requirement already satisfied: typing-extensions in /usr/local/lib/python3.10/dist-packages (from torch) (4.5.0)\n",
      "Requirement already satisfied: sympy in /usr/local/lib/python3.10/dist-packages (from torch) (1.12)\n",
      "Requirement already satisfied: networkx in /usr/local/lib/python3.10/dist-packages (from torch) (3.2.1)\n",
      "Requirement already satisfied: jinja2 in /usr/local/lib/python3.10/dist-packages (from torch) (3.1.2)\n",
      "Requirement already satisfied: fsspec in /usr/local/lib/python3.10/dist-packages (from torch) (2023.6.0)\n",
      "Requirement already satisfied: triton==2.1.0 in /usr/local/lib/python3.10/dist-packages (from torch) (2.1.0)\n",
      "Requirement already satisfied: MarkupSafe>=2.0 in /usr/local/lib/python3.10/dist-packages (from jinja2->torch) (2.1.3)\n",
      "Requirement already satisfied: mpmath>=0.19 in /usr/local/lib/python3.10/dist-packages (from sympy->torch) (1.3.0)\n",
      "Collecting catboost\n",
      "  Downloading catboost-1.2.2-cp310-cp310-manylinux2014_x86_64.whl (98.7 MB)\n",
      "\u001b[2K     \u001b[90m━━━━━━━━━━━━━━━━━━━━━━━━━━━━━━━━━━━━━━━━\u001b[0m \u001b[32m98.7/98.7 MB\u001b[0m \u001b[31m8.8 MB/s\u001b[0m eta \u001b[36m0:00:00\u001b[0m\n",
      "\u001b[?25hRequirement already satisfied: graphviz in /usr/local/lib/python3.10/dist-packages (from catboost) (0.20.1)\n",
      "Requirement already satisfied: matplotlib in /usr/local/lib/python3.10/dist-packages (from catboost) (3.7.1)\n",
      "Requirement already satisfied: numpy>=1.16.0 in /usr/local/lib/python3.10/dist-packages (from catboost) (1.23.5)\n",
      "Requirement already satisfied: pandas>=0.24 in /usr/local/lib/python3.10/dist-packages (from catboost) (1.5.3)\n",
      "Requirement already satisfied: scipy in /usr/local/lib/python3.10/dist-packages (from catboost) (1.11.3)\n",
      "Requirement already satisfied: plotly in /usr/local/lib/python3.10/dist-packages (from catboost) (5.15.0)\n",
      "Requirement already satisfied: six in /usr/local/lib/python3.10/dist-packages (from catboost) (1.16.0)\n",
      "Requirement already satisfied: python-dateutil>=2.8.1 in /usr/local/lib/python3.10/dist-packages (from pandas>=0.24->catboost) (2.8.2)\n",
      "Requirement already satisfied: pytz>=2020.1 in /usr/local/lib/python3.10/dist-packages (from pandas>=0.24->catboost) (2023.3.post1)\n",
      "Requirement already satisfied: contourpy>=1.0.1 in /usr/local/lib/python3.10/dist-packages (from matplotlib->catboost) (1.2.0)\n",
      "Requirement already satisfied: cycler>=0.10 in /usr/local/lib/python3.10/dist-packages (from matplotlib->catboost) (0.12.1)\n",
      "Requirement already satisfied: fonttools>=4.22.0 in /usr/local/lib/python3.10/dist-packages (from matplotlib->catboost) (4.44.3)\n",
      "Requirement already satisfied: kiwisolver>=1.0.1 in /usr/local/lib/python3.10/dist-packages (from matplotlib->catboost) (1.4.5)\n",
      "Requirement already satisfied: packaging>=20.0 in /usr/local/lib/python3.10/dist-packages (from matplotlib->catboost) (23.2)\n",
      "Requirement already satisfied: pillow>=6.2.0 in /usr/local/lib/python3.10/dist-packages (from matplotlib->catboost) (9.4.0)\n",
      "Requirement already satisfied: pyparsing>=2.3.1 in /usr/local/lib/python3.10/dist-packages (from matplotlib->catboost) (3.1.1)\n",
      "Requirement already satisfied: tenacity>=6.2.0 in /usr/local/lib/python3.10/dist-packages (from plotly->catboost) (8.2.3)\n",
      "Installing collected packages: catboost\n",
      "Successfully installed catboost-1.2.2\n",
      "Requirement already satisfied: ipywidgets in /usr/local/lib/python3.10/dist-packages (7.7.1)\n",
      "Requirement already satisfied: ipykernel>=4.5.1 in /usr/local/lib/python3.10/dist-packages (from ipywidgets) (5.5.6)\n",
      "Requirement already satisfied: ipython-genutils~=0.2.0 in /usr/local/lib/python3.10/dist-packages (from ipywidgets) (0.2.0)\n",
      "Requirement already satisfied: traitlets>=4.3.1 in /usr/local/lib/python3.10/dist-packages (from ipywidgets) (5.7.1)\n",
      "Requirement already satisfied: widgetsnbextension~=3.6.0 in /usr/local/lib/python3.10/dist-packages (from ipywidgets) (3.6.6)\n",
      "Requirement already satisfied: ipython>=4.0.0 in /usr/local/lib/python3.10/dist-packages (from ipywidgets) (7.34.0)\n",
      "Requirement already satisfied: jupyterlab-widgets>=1.0.0 in /usr/local/lib/python3.10/dist-packages (from ipywidgets) (3.0.9)\n",
      "Requirement already satisfied: jupyter-client in /usr/local/lib/python3.10/dist-packages (from ipykernel>=4.5.1->ipywidgets) (6.1.12)\n",
      "Requirement already satisfied: tornado>=4.2 in /usr/local/lib/python3.10/dist-packages (from ipykernel>=4.5.1->ipywidgets) (6.3.2)\n",
      "Requirement already satisfied: setuptools>=18.5 in /usr/local/lib/python3.10/dist-packages (from ipython>=4.0.0->ipywidgets) (67.7.2)\n",
      "Collecting jedi>=0.16 (from ipython>=4.0.0->ipywidgets)\n",
      "  Downloading jedi-0.19.1-py2.py3-none-any.whl (1.6 MB)\n",
      "\u001b[2K     \u001b[90m━━━━━━━━━━━━━━━━━━━━━━━━━━━━━━━━━━━━━━━━\u001b[0m \u001b[32m1.6/1.6 MB\u001b[0m \u001b[31m11.8 MB/s\u001b[0m eta \u001b[36m0:00:00\u001b[0m\n",
      "\u001b[?25hRequirement already satisfied: decorator in /usr/local/lib/python3.10/dist-packages (from ipython>=4.0.0->ipywidgets) (4.4.2)\n",
      "Requirement already satisfied: pickleshare in /usr/local/lib/python3.10/dist-packages (from ipython>=4.0.0->ipywidgets) (0.7.5)\n",
      "Requirement already satisfied: prompt-toolkit!=3.0.0,!=3.0.1,<3.1.0,>=2.0.0 in /usr/local/lib/python3.10/dist-packages (from ipython>=4.0.0->ipywidgets) (3.0.41)\n",
      "Requirement already satisfied: pygments in /usr/local/lib/python3.10/dist-packages (from ipython>=4.0.0->ipywidgets) (2.16.1)\n",
      "Requirement already satisfied: backcall in /usr/local/lib/python3.10/dist-packages (from ipython>=4.0.0->ipywidgets) (0.2.0)\n",
      "Requirement already satisfied: matplotlib-inline in /usr/local/lib/python3.10/dist-packages (from ipython>=4.0.0->ipywidgets) (0.1.6)\n",
      "Requirement already satisfied: pexpect>4.3 in /usr/local/lib/python3.10/dist-packages (from ipython>=4.0.0->ipywidgets) (4.8.0)\n",
      "Requirement already satisfied: notebook>=4.4.1 in /usr/local/lib/python3.10/dist-packages (from widgetsnbextension~=3.6.0->ipywidgets) (6.5.5)\n",
      "Requirement already satisfied: parso<0.9.0,>=0.8.3 in /usr/local/lib/python3.10/dist-packages (from jedi>=0.16->ipython>=4.0.0->ipywidgets) (0.8.3)\n",
      "Requirement already satisfied: jinja2 in /usr/local/lib/python3.10/dist-packages (from notebook>=4.4.1->widgetsnbextension~=3.6.0->ipywidgets) (3.1.2)\n",
      "Requirement already satisfied: pyzmq<25,>=17 in /usr/local/lib/python3.10/dist-packages (from notebook>=4.4.1->widgetsnbextension~=3.6.0->ipywidgets) (23.2.1)\n",
      "Requirement already satisfied: argon2-cffi in /usr/local/lib/python3.10/dist-packages (from notebook>=4.4.1->widgetsnbextension~=3.6.0->ipywidgets) (23.1.0)\n",
      "Requirement already satisfied: jupyter-core>=4.6.1 in /usr/local/lib/python3.10/dist-packages (from notebook>=4.4.1->widgetsnbextension~=3.6.0->ipywidgets) (5.5.0)\n",
      "Requirement already satisfied: nbformat in /usr/local/lib/python3.10/dist-packages (from notebook>=4.4.1->widgetsnbextension~=3.6.0->ipywidgets) (5.9.2)\n",
      "Requirement already satisfied: nbconvert>=5 in /usr/local/lib/python3.10/dist-packages (from notebook>=4.4.1->widgetsnbextension~=3.6.0->ipywidgets) (6.5.4)\n",
      "Requirement already satisfied: nest-asyncio>=1.5 in /usr/local/lib/python3.10/dist-packages (from notebook>=4.4.1->widgetsnbextension~=3.6.0->ipywidgets) (1.5.8)\n",
      "Requirement already satisfied: Send2Trash>=1.8.0 in /usr/local/lib/python3.10/dist-packages (from notebook>=4.4.1->widgetsnbextension~=3.6.0->ipywidgets) (1.8.2)\n",
      "Requirement already satisfied: terminado>=0.8.3 in /usr/local/lib/python3.10/dist-packages (from notebook>=4.4.1->widgetsnbextension~=3.6.0->ipywidgets) (0.18.0)\n",
      "Requirement already satisfied: prometheus-client in /usr/local/lib/python3.10/dist-packages (from notebook>=4.4.1->widgetsnbextension~=3.6.0->ipywidgets) (0.18.0)\n",
      "Requirement already satisfied: nbclassic>=0.4.7 in /usr/local/lib/python3.10/dist-packages (from notebook>=4.4.1->widgetsnbextension~=3.6.0->ipywidgets) (1.0.0)\n",
      "Requirement already satisfied: python-dateutil>=2.1 in /usr/local/lib/python3.10/dist-packages (from jupyter-client->ipykernel>=4.5.1->ipywidgets) (2.8.2)\n",
      "Requirement already satisfied: ptyprocess>=0.5 in /usr/local/lib/python3.10/dist-packages (from pexpect>4.3->ipython>=4.0.0->ipywidgets) (0.7.0)\n",
      "Requirement already satisfied: wcwidth in /usr/local/lib/python3.10/dist-packages (from prompt-toolkit!=3.0.0,!=3.0.1,<3.1.0,>=2.0.0->ipython>=4.0.0->ipywidgets) (0.2.10)\n",
      "Requirement already satisfied: platformdirs>=2.5 in /usr/local/lib/python3.10/dist-packages (from jupyter-core>=4.6.1->notebook>=4.4.1->widgetsnbextension~=3.6.0->ipywidgets) (4.0.0)\n",
      "Requirement already satisfied: jupyter-server>=1.8 in /usr/local/lib/python3.10/dist-packages (from nbclassic>=0.4.7->notebook>=4.4.1->widgetsnbextension~=3.6.0->ipywidgets) (1.24.0)\n",
      "Requirement already satisfied: notebook-shim>=0.2.3 in /usr/local/lib/python3.10/dist-packages (from nbclassic>=0.4.7->notebook>=4.4.1->widgetsnbextension~=3.6.0->ipywidgets) (0.2.3)\n",
      "Requirement already satisfied: lxml in /usr/local/lib/python3.10/dist-packages (from nbconvert>=5->notebook>=4.4.1->widgetsnbextension~=3.6.0->ipywidgets) (4.9.3)\n",
      "Requirement already satisfied: beautifulsoup4 in /usr/local/lib/python3.10/dist-packages (from nbconvert>=5->notebook>=4.4.1->widgetsnbextension~=3.6.0->ipywidgets) (4.11.2)\n",
      "Requirement already satisfied: bleach in /usr/local/lib/python3.10/dist-packages (from nbconvert>=5->notebook>=4.4.1->widgetsnbextension~=3.6.0->ipywidgets) (6.1.0)\n",
      "Requirement already satisfied: defusedxml in /usr/local/lib/python3.10/dist-packages (from nbconvert>=5->notebook>=4.4.1->widgetsnbextension~=3.6.0->ipywidgets) (0.7.1)\n",
      "Requirement already satisfied: entrypoints>=0.2.2 in /usr/local/lib/python3.10/dist-packages (from nbconvert>=5->notebook>=4.4.1->widgetsnbextension~=3.6.0->ipywidgets) (0.4)\n",
      "Requirement already satisfied: jupyterlab-pygments in /usr/local/lib/python3.10/dist-packages (from nbconvert>=5->notebook>=4.4.1->widgetsnbextension~=3.6.0->ipywidgets) (0.2.2)\n",
      "Requirement already satisfied: MarkupSafe>=2.0 in /usr/local/lib/python3.10/dist-packages (from nbconvert>=5->notebook>=4.4.1->widgetsnbextension~=3.6.0->ipywidgets) (2.1.3)\n",
      "Requirement already satisfied: mistune<2,>=0.8.1 in /usr/local/lib/python3.10/dist-packages (from nbconvert>=5->notebook>=4.4.1->widgetsnbextension~=3.6.0->ipywidgets) (0.8.4)\n",
      "Requirement already satisfied: nbclient>=0.5.0 in /usr/local/lib/python3.10/dist-packages (from nbconvert>=5->notebook>=4.4.1->widgetsnbextension~=3.6.0->ipywidgets) (0.9.0)\n",
      "Requirement already satisfied: packaging in /usr/local/lib/python3.10/dist-packages (from nbconvert>=5->notebook>=4.4.1->widgetsnbextension~=3.6.0->ipywidgets) (23.2)\n",
      "Requirement already satisfied: pandocfilters>=1.4.1 in /usr/local/lib/python3.10/dist-packages (from nbconvert>=5->notebook>=4.4.1->widgetsnbextension~=3.6.0->ipywidgets) (1.5.0)\n",
      "Requirement already satisfied: tinycss2 in /usr/local/lib/python3.10/dist-packages (from nbconvert>=5->notebook>=4.4.1->widgetsnbextension~=3.6.0->ipywidgets) (1.2.1)\n",
      "Requirement already satisfied: fastjsonschema in /usr/local/lib/python3.10/dist-packages (from nbformat->notebook>=4.4.1->widgetsnbextension~=3.6.0->ipywidgets) (2.19.0)\n",
      "Requirement already satisfied: jsonschema>=2.6 in /usr/local/lib/python3.10/dist-packages (from nbformat->notebook>=4.4.1->widgetsnbextension~=3.6.0->ipywidgets) (4.19.2)\n",
      "Requirement already satisfied: six>=1.5 in /usr/local/lib/python3.10/dist-packages (from python-dateutil>=2.1->jupyter-client->ipykernel>=4.5.1->ipywidgets) (1.16.0)\n",
      "Requirement already satisfied: argon2-cffi-bindings in /usr/local/lib/python3.10/dist-packages (from argon2-cffi->notebook>=4.4.1->widgetsnbextension~=3.6.0->ipywidgets) (21.2.0)\n",
      "Requirement already satisfied: attrs>=22.2.0 in /usr/local/lib/python3.10/dist-packages (from jsonschema>=2.6->nbformat->notebook>=4.4.1->widgetsnbextension~=3.6.0->ipywidgets) (23.1.0)\n",
      "Requirement already satisfied: jsonschema-specifications>=2023.03.6 in /usr/local/lib/python3.10/dist-packages (from jsonschema>=2.6->nbformat->notebook>=4.4.1->widgetsnbextension~=3.6.0->ipywidgets) (2023.11.1)\n",
      "Requirement already satisfied: referencing>=0.28.4 in /usr/local/lib/python3.10/dist-packages (from jsonschema>=2.6->nbformat->notebook>=4.4.1->widgetsnbextension~=3.6.0->ipywidgets) (0.31.0)\n",
      "Requirement already satisfied: rpds-py>=0.7.1 in /usr/local/lib/python3.10/dist-packages (from jsonschema>=2.6->nbformat->notebook>=4.4.1->widgetsnbextension~=3.6.0->ipywidgets) (0.13.0)\n",
      "Requirement already satisfied: anyio<4,>=3.1.0 in /usr/local/lib/python3.10/dist-packages (from jupyter-server>=1.8->nbclassic>=0.4.7->notebook>=4.4.1->widgetsnbextension~=3.6.0->ipywidgets) (3.7.1)\n",
      "Requirement already satisfied: websocket-client in /usr/local/lib/python3.10/dist-packages (from jupyter-server>=1.8->nbclassic>=0.4.7->notebook>=4.4.1->widgetsnbextension~=3.6.0->ipywidgets) (1.6.4)\n",
      "Requirement already satisfied: cffi>=1.0.1 in /usr/local/lib/python3.10/dist-packages (from argon2-cffi-bindings->argon2-cffi->notebook>=4.4.1->widgetsnbextension~=3.6.0->ipywidgets) (1.16.0)\n",
      "Requirement already satisfied: soupsieve>1.2 in /usr/local/lib/python3.10/dist-packages (from beautifulsoup4->nbconvert>=5->notebook>=4.4.1->widgetsnbextension~=3.6.0->ipywidgets) (2.5)\n",
      "Requirement already satisfied: webencodings in /usr/local/lib/python3.10/dist-packages (from bleach->nbconvert>=5->notebook>=4.4.1->widgetsnbextension~=3.6.0->ipywidgets) (0.5.1)\n",
      "Requirement already satisfied: idna>=2.8 in /usr/local/lib/python3.10/dist-packages (from anyio<4,>=3.1.0->jupyter-server>=1.8->nbclassic>=0.4.7->notebook>=4.4.1->widgetsnbextension~=3.6.0->ipywidgets) (3.4)\n",
      "Requirement already satisfied: sniffio>=1.1 in /usr/local/lib/python3.10/dist-packages (from anyio<4,>=3.1.0->jupyter-server>=1.8->nbclassic>=0.4.7->notebook>=4.4.1->widgetsnbextension~=3.6.0->ipywidgets) (1.3.0)\n",
      "Requirement already satisfied: exceptiongroup in /usr/local/lib/python3.10/dist-packages (from anyio<4,>=3.1.0->jupyter-server>=1.8->nbclassic>=0.4.7->notebook>=4.4.1->widgetsnbextension~=3.6.0->ipywidgets) (1.1.3)\n",
      "Requirement already satisfied: pycparser in /usr/local/lib/python3.10/dist-packages (from cffi>=1.0.1->argon2-cffi-bindings->argon2-cffi->notebook>=4.4.1->widgetsnbextension~=3.6.0->ipywidgets) (2.21)\n",
      "Installing collected packages: jedi\n",
      "Successfully installed jedi-0.19.1\n",
      "Requirement already satisfied: scikit-learn in /usr/local/lib/python3.10/dist-packages (1.2.2)\n",
      "Requirement already satisfied: numpy>=1.17.3 in /usr/local/lib/python3.10/dist-packages (from scikit-learn) (1.23.5)\n",
      "Requirement already satisfied: scipy>=1.3.2 in /usr/local/lib/python3.10/dist-packages (from scikit-learn) (1.11.3)\n",
      "Requirement already satisfied: joblib>=1.1.1 in /usr/local/lib/python3.10/dist-packages (from scikit-learn) (1.3.2)\n",
      "Requirement already satisfied: threadpoolctl>=2.0.0 in /usr/local/lib/python3.10/dist-packages (from scikit-learn) (3.2.0)\n"
     ]
    }
   ],
   "source": [
    "%pip install faiss-gpu\n",
    "%pip install LangChain\n",
    "%pip install sentence-transformers\n",
    "%pip install pandas\n",
    "%pip install numpy\n",
    "%pip install pyarrow\n",
    "%pip install fastparquet\n",
    "%pip install torch\n",
    "%pip install catboost\n",
    "%pip install ipywidgets\n",
    "%pip install scikit-learn"
   ]
  },
  {
   "cell_type": "code",
   "execution_count": 56,
   "metadata": {
    "execution": {
     "iopub.execute_input": "2023-11-25T09:04:19.269512Z",
     "iopub.status.busy": "2023-11-25T09:04:19.268841Z",
     "iopub.status.idle": "2023-11-25T09:04:30.154953Z",
     "shell.execute_reply": "2023-11-25T09:04:30.153651Z",
     "shell.execute_reply.started": "2023-11-25T09:04:19.269477Z"
    }
   },
   "outputs": [
    {
     "name": "stderr",
     "output_type": "stream",
     "text": [
      "huggingface/tokenizers: The current process just got forked, after parallelism has already been used. Disabling parallelism to avoid deadlocks...\n",
      "To disable this warning, you can either:\n",
      "\t- Avoid using `tokenizers` before the fork if possible\n",
      "\t- Explicitly set the environment variable TOKENIZERS_PARALLELISM=(true | false)\n"
     ]
    },
    {
     "name": "stdout",
     "output_type": "stream",
     "text": [
      "Defaulting to user installation because normal site-packages is not writeable\n",
      "Collecting DateTime\n",
      "  Obtaining dependency information for DateTime from https://files.pythonhosted.org/packages/d3/63/dced85cf2970b5d363e501a10aa051e71caea3ad10a60b7a57794f43a4b8/DateTime-5.3-py3-none-any.whl.metadata\n",
      "  Downloading DateTime-5.3-py3-none-any.whl.metadata (33 kB)\n",
      "Collecting zope.interface (from DateTime)\n",
      "  Obtaining dependency information for zope.interface from https://files.pythonhosted.org/packages/4f/20/94d4f221989b4bbdd09004b2afb329958e776b7015b7ea8bc915327e195a/zope.interface-6.1-cp310-cp310-manylinux_2_5_x86_64.manylinux1_x86_64.manylinux_2_17_x86_64.manylinux2014_x86_64.whl.metadata\n",
      "  Downloading zope.interface-6.1-cp310-cp310-manylinux_2_5_x86_64.manylinux1_x86_64.manylinux_2_17_x86_64.manylinux2014_x86_64.whl.metadata (41 kB)\n",
      "\u001b[2K     \u001b[90m━━━━━━━━━━━━━━━━━━━━━━━━━━━━━━━━━━━━━━━━\u001b[0m \u001b[32m41.7/41.7 kB\u001b[0m \u001b[31m1.6 MB/s\u001b[0m eta \u001b[36m0:00:00\u001b[0m\n",
      "\u001b[?25hRequirement already satisfied: pytz in /usr/local/lib/python3.10/dist-packages (from DateTime) (2022.7.1)\n",
      "Requirement already satisfied: setuptools in /kernel/lib/python3.10/site-packages (from zope.interface->DateTime) (51.0.0)\n",
      "Downloading DateTime-5.3-py3-none-any.whl (52 kB)\n",
      "\u001b[2K   \u001b[90m━━━━━━━━━━━━━━━━━━━━━━━━━━━━━━━━━━━━━━━━\u001b[0m \u001b[32m52.2/52.2 kB\u001b[0m \u001b[31m1.9 MB/s\u001b[0m eta \u001b[36m0:00:00\u001b[0m\n",
      "\u001b[?25hDownloading zope.interface-6.1-cp310-cp310-manylinux_2_5_x86_64.manylinux1_x86_64.manylinux_2_17_x86_64.manylinux2014_x86_64.whl (247 kB)\n",
      "\u001b[2K   \u001b[90m━━━━━━━━━━━━━━━━━━━━━━━━━━━━━━━━━━━━━━━━\u001b[0m \u001b[32m247.1/247.1 kB\u001b[0m \u001b[31m3.1 MB/s\u001b[0m eta \u001b[36m0:00:00\u001b[0m00:01\u001b[0m0:01\u001b[0m\n",
      "\u001b[?25hInstalling collected packages: zope.interface, DateTime\n",
      "Successfully installed DateTime-5.3 zope.interface-6.1\n",
      "\n",
      "\u001b[1m[\u001b[0m\u001b[34;49mnotice\u001b[0m\u001b[1;39;49m]\u001b[0m\u001b[39;49m A new release of pip is available: \u001b[0m\u001b[31;49m23.2.1\u001b[0m\u001b[39;49m -> \u001b[0m\u001b[32;49m23.3.1\u001b[0m\n",
      "\u001b[1m[\u001b[0m\u001b[34;49mnotice\u001b[0m\u001b[1;39;49m]\u001b[0m\u001b[39;49m To update, run: \u001b[0m\u001b[32;49mpython3 -m pip install --upgrade pip\u001b[0m\n"
     ]
    }
   ],
   "source": [
    "%pip install DateTime"
   ]
  },
  {
   "cell_type": "code",
   "execution_count": 1,
   "metadata": {
    "execution": {
     "iopub.execute_input": "2023-11-24T20:21:13.535867Z",
     "iopub.status.busy": "2023-11-24T20:21:13.535254Z",
     "iopub.status.idle": "2023-11-24T20:21:13.557707Z",
     "shell.execute_reply": "2023-11-24T20:21:13.556351Z",
     "shell.execute_reply.started": "2023-11-24T20:21:13.535818Z"
    },
    "id": "PDZZQ6LAuSHE",
    "tags": []
   },
   "outputs": [],
   "source": [
    "BANNER = \"\"\"\n",
    "MMWXkolccc:::::::::::::::::::::cclokXWMM\n",
    "MXd,.                              .,dXM\n",
    "Xc.                            ..... .cX\n",
    "k.                            .',;,.. .k\n",
    "d.    ....................... .',;,.. .d\n",
    "d.    'dOOOOOOOOOOOOOOOOOOOkdc'.....  .d\n",
    "d.    ,0MMMMMMMMMMMMMMMMMMMMMWO;.     .d\n",
    "d.    ,0MMMXdcccccccccccclOWMMWd.     .d\n",
    "d.    ,0MMMO'             cXMMWx.     .d\n",
    "d.    ,0MMMXocccccccccccclkWMMWd.     .d\n",
    "d.    ,0MMMMMWWWWWWWWMMWMMMMMWK:.     .d\n",
    "d.    ,0MMMWK000000000XWMMMNOo,.      .d\n",
    "d.    ,0MMM0;.........,xNMMXo.        .d\n",
    "d.    ,0MMM0,          .lKMMWO;.      .d\n",
    "d.    'kXXXk'           .;kXXXO:.     .d\n",
    "x.    ..'''..             .''''..     .x\n",
    "0,                                    ,0\n",
    "Wk,.                                .,kW\n",
    "MWKd:'............................':dKWM\n",
    "MMMMNKOxxddddddddddddddddddddddxxOKNMMMM\n",
    "\"\"\""
   ]
  },
  {
   "cell_type": "code",
   "execution_count": 2,
   "metadata": {
    "execution": {
     "iopub.execute_input": "2023-11-25T09:41:24.834130Z",
     "iopub.status.busy": "2023-11-25T09:41:24.833223Z",
     "iopub.status.idle": "2023-11-25T09:41:39.129748Z",
     "shell.execute_reply": "2023-11-25T09:41:39.126964Z",
     "shell.execute_reply.started": "2023-11-25T09:41:24.834058Z"
    },
    "id": "O2NF2CvQlEIv",
    "tags": []
   },
   "outputs": [],
   "source": [
    "import faiss\n",
    "from faiss import write_index, read_index\n",
    "from sentence_transformers import SentenceTransformer\n",
    "import math\n",
    "import pandas as pd\n",
    "import requests\n",
    "from urllib.parse import urlencode\n",
    "import os\n",
    "import numpy as np\n",
    "from catboost import CatBoostRanker, Pool\n",
    "from functools import partial\n",
    "import json\n",
    "import pyarrow.parquet as pq\n",
    "import time\n",
    "\n",
    "\n"
   ]
  },
  {
   "cell_type": "markdown",
   "metadata": {
    "id": "Xi4z_XXs4W_8"
   },
   "source": [
    "# Формирование базы векторов"
   ]
  },
  {
   "cell_type": "code",
   "execution_count": 3,
   "metadata": {
    "execution": {
     "iopub.execute_input": "2023-11-25T09:41:39.132647Z",
     "iopub.status.busy": "2023-11-25T09:41:39.131500Z",
     "iopub.status.idle": "2023-11-25T09:41:39.160602Z",
     "shell.execute_reply": "2023-11-25T09:41:39.159408Z",
     "shell.execute_reply.started": "2023-11-25T09:41:39.132612Z"
    },
    "id": "RUENzt1GMAn7",
    "tags": []
   },
   "outputs": [],
   "source": [
    "seed = 42\n",
    "np.random.seed(seed)"
   ]
  },
  {
   "cell_type": "code",
   "execution_count": 17,
   "metadata": {
    "execution": {
     "iopub.execute_input": "2023-11-25T10:23:26.061815Z",
     "iopub.status.busy": "2023-11-25T10:23:26.060777Z",
     "iopub.status.idle": "2023-11-25T10:23:53.477352Z",
     "shell.execute_reply": "2023-11-25T10:23:53.476132Z",
     "shell.execute_reply.started": "2023-11-25T10:23:26.061774Z"
    },
    "id": "S9p0scCiMAn8",
    "tags": []
   },
   "outputs": [],
   "source": [
    "candidates = pd.read_parquet(\n",
    "    './data/videos.parquet',\n",
    "    engine='fastparquet',\n",
    "    columns=['video_id', 'video_title']\n",
    ")"
   ]
  },
  {
   "cell_type": "code",
   "execution_count": 18,
   "metadata": {
    "execution": {
     "iopub.execute_input": "2023-11-25T10:23:53.480057Z",
     "iopub.status.busy": "2023-11-25T10:23:53.479110Z",
     "iopub.status.idle": "2023-11-25T10:24:03.517487Z",
     "shell.execute_reply": "2023-11-25T10:24:03.513443Z",
     "shell.execute_reply.started": "2023-11-25T10:23:53.479995Z"
    },
    "id": "2fNpjof8MAn8",
    "tags": []
   },
   "outputs": [],
   "source": [
    "candidates = candidates.sample(n=10_000_000, replace=False, random_state=seed)"
   ]
  },
  {
   "cell_type": "code",
   "execution_count": 6,
   "metadata": {
    "colab": {
     "base_uri": "https://localhost:8080/",
     "height": 424
    },
    "execution": {
     "iopub.execute_input": "2023-11-25T09:43:03.429363Z",
     "iopub.status.busy": "2023-11-25T09:43:03.428251Z",
     "iopub.status.idle": "2023-11-25T09:43:03.482419Z",
     "shell.execute_reply": "2023-11-25T09:43:03.481047Z",
     "shell.execute_reply.started": "2023-11-25T09:43:03.429312Z"
    },
    "id": "qO7EN7nAZtSk",
    "outputId": "3c333738-280b-46dd-aec8-e6427413c2d5",
    "tags": []
   },
   "outputs": [
    {
     "data": {
      "text/html": [
       "<div>\n",
       "<style scoped>\n",
       "    .dataframe tbody tr th:only-of-type {\n",
       "        vertical-align: middle;\n",
       "    }\n",
       "\n",
       "    .dataframe tbody tr th {\n",
       "        vertical-align: top;\n",
       "    }\n",
       "\n",
       "    .dataframe thead th {\n",
       "        text-align: right;\n",
       "    }\n",
       "</style>\n",
       "<table border=\"1\" class=\"dataframe\">\n",
       "  <thead>\n",
       "    <tr style=\"text-align: right;\">\n",
       "      <th></th>\n",
       "      <th>video_id</th>\n",
       "      <th>video_title</th>\n",
       "    </tr>\n",
       "  </thead>\n",
       "  <tbody>\n",
       "    <tr>\n",
       "      <th>6479006</th>\n",
       "      <td>video_24972264</td>\n",
       "      <td>Как мы снимали в публичном доме!</td>\n",
       "    </tr>\n",
       "    <tr>\n",
       "      <th>1521150</th>\n",
       "      <td>video_22470853</td>\n",
       "      <td>Капкейки из цветного теста</td>\n",
       "    </tr>\n",
       "    <tr>\n",
       "      <th>641816</th>\n",
       "      <td>video_22923068</td>\n",
       "      <td>Отзыв о рюкзаке Vikgeo | Распаковка рюкзаков V...</td>\n",
       "    </tr>\n",
       "    <tr>\n",
       "      <th>10116582</th>\n",
       "      <td>video_5078872</td>\n",
       "      <td>Наша ежевика на 24.06.2022г. Дальнейшие подкор...</td>\n",
       "    </tr>\n",
       "    <tr>\n",
       "      <th>16286594</th>\n",
       "      <td>video_19600512</td>\n",
       "      <td>КАК НАБРАТЬ МЫШЕЧНУЮ МАССУ И СИЛУ.ПОШАГОВАЯ ИН...</td>\n",
       "    </tr>\n",
       "    <tr>\n",
       "      <th>...</th>\n",
       "      <td>...</td>\n",
       "      <td>...</td>\n",
       "    </tr>\n",
       "    <tr>\n",
       "      <th>22883335</th>\n",
       "      <td>video_11937921</td>\n",
       "      <td>Музыкальный салон 2023. Концерт в Румянцевском...</td>\n",
       "    </tr>\n",
       "    <tr>\n",
       "      <th>33792615</th>\n",
       "      <td>video_21861162</td>\n",
       "      <td>А.В.Клюев - МЕДИТАЦИЯ, Практическая Часть / ВС...</td>\n",
       "    </tr>\n",
       "    <tr>\n",
       "      <th>31548102</th>\n",
       "      <td>video_9425722</td>\n",
       "      <td>Плоды просвещения</td>\n",
       "    </tr>\n",
       "    <tr>\n",
       "      <th>434212</th>\n",
       "      <td>video_25456361</td>\n",
       "      <td>Ремонт пластиковых окон в новостройке Новоросс...</td>\n",
       "    </tr>\n",
       "    <tr>\n",
       "      <th>31590386</th>\n",
       "      <td>video_2111406</td>\n",
       "      <td>Проезд в столице Мордовии опять подорожает</td>\n",
       "    </tr>\n",
       "  </tbody>\n",
       "</table>\n",
       "<p>10000000 rows × 2 columns</p>\n",
       "</div>"
      ],
      "text/plain": [
       "                video_id                                        video_title\n",
       "6479006   video_24972264                   Как мы снимали в публичном доме!\n",
       "1521150   video_22470853                         Капкейки из цветного теста\n",
       "641816    video_22923068  Отзыв о рюкзаке Vikgeo | Распаковка рюкзаков V...\n",
       "10116582   video_5078872  Наша ежевика на 24.06.2022г. Дальнейшие подкор...\n",
       "16286594  video_19600512  КАК НАБРАТЬ МЫШЕЧНУЮ МАССУ И СИЛУ.ПОШАГОВАЯ ИН...\n",
       "...                  ...                                                ...\n",
       "22883335  video_11937921  Музыкальный салон 2023. Концерт в Румянцевском...\n",
       "33792615  video_21861162  А.В.Клюев - МЕДИТАЦИЯ, Практическая Часть / ВС...\n",
       "31548102   video_9425722                                  Плоды просвещения\n",
       "434212    video_25456361  Ремонт пластиковых окон в новостройке Новоросс...\n",
       "31590386   video_2111406         Проезд в столице Мордовии опять подорожает\n",
       "\n",
       "[10000000 rows x 2 columns]"
      ]
     },
     "execution_count": 6,
     "metadata": {},
     "output_type": "execute_result"
    }
   ],
   "source": [
    "candidates"
   ]
  },
  {
   "cell_type": "code",
   "execution_count": 7,
   "metadata": {
    "execution": {
     "iopub.execute_input": "2023-11-25T09:43:03.484695Z",
     "iopub.status.busy": "2023-11-25T09:43:03.484008Z",
     "iopub.status.idle": "2023-11-25T09:43:03.520098Z",
     "shell.execute_reply": "2023-11-25T09:43:03.518704Z",
     "shell.execute_reply.started": "2023-11-25T09:43:03.484650Z"
    },
    "id": "1mEXhVIgXhKT",
    "tags": []
   },
   "outputs": [],
   "source": [
    "#candidates.to_csv('candidates.csv',sep=',',index=False)"
   ]
  },
  {
   "cell_type": "code",
   "execution_count": 8,
   "metadata": {
    "execution": {
     "iopub.execute_input": "2023-11-25T09:43:03.522688Z",
     "iopub.status.busy": "2023-11-25T09:43:03.521591Z",
     "iopub.status.idle": "2023-11-25T09:43:14.054207Z",
     "shell.execute_reply": "2023-11-25T09:43:14.052935Z",
     "shell.execute_reply.started": "2023-11-25T09:43:03.522628Z"
    },
    "id": "pq0YlkrkxLfj",
    "tags": []
   },
   "outputs": [],
   "source": [
    "corpus = candidates['video_title'].apply(lambda x: x.lower()).values\n",
    "video_ids = candidates['video_id'].values\n",
    "#del candidates"
   ]
  },
  {
   "cell_type": "markdown",
   "metadata": {
    "id": "1BRSyd97aLF5"
   },
   "source": [
    "Созданеи бд"
   ]
  },
  {
   "cell_type": "code",
   "execution_count": 9,
   "metadata": {
    "execution": {
     "iopub.execute_input": "2023-11-25T09:43:14.057738Z",
     "iopub.status.busy": "2023-11-25T09:43:14.057122Z",
     "iopub.status.idle": "2023-11-25T09:43:40.496186Z",
     "shell.execute_reply": "2023-11-25T09:43:40.495011Z",
     "shell.execute_reply.started": "2023-11-25T09:43:14.057689Z"
    },
    "id": "k7jimC0zxR6i",
    "tags": []
   },
   "outputs": [
    {
     "data": {
      "application/vnd.jupyter.widget-view+json": {
       "model_id": "e2f8a0434b54444a9170f9a79987053c",
       "version_major": 2,
       "version_minor": 0
      },
      "text/plain": [
       ".gitattributes:   0%|          | 0.00/690 [00:00<?, ?B/s]"
      ]
     },
     "metadata": {},
     "output_type": "display_data"
    },
    {
     "data": {
      "application/vnd.jupyter.widget-view+json": {
       "model_id": "0d1adbe837ea4fa8933d8084cb8958ad",
       "version_major": 2,
       "version_minor": 0
      },
      "text/plain": [
       "1_Pooling/config.json:   0%|          | 0.00/190 [00:00<?, ?B/s]"
      ]
     },
     "metadata": {},
     "output_type": "display_data"
    },
    {
     "data": {
      "application/vnd.jupyter.widget-view+json": {
       "model_id": "78e55e56d8c24f5197403a3329baa313",
       "version_major": 2,
       "version_minor": 0
      },
      "text/plain": [
       "README.md:   0%|          | 0.00/4.10k [00:00<?, ?B/s]"
      ]
     },
     "metadata": {},
     "output_type": "display_data"
    },
    {
     "data": {
      "application/vnd.jupyter.widget-view+json": {
       "model_id": "e26aa87c9b4c49b4b4a4d8c9063f4256",
       "version_major": 2,
       "version_minor": 0
      },
      "text/plain": [
       "config.json:   0%|          | 0.00/723 [00:00<?, ?B/s]"
      ]
     },
     "metadata": {},
     "output_type": "display_data"
    },
    {
     "data": {
      "application/vnd.jupyter.widget-view+json": {
       "model_id": "77511d54a40f4138bf57c42eb410f8d2",
       "version_major": 2,
       "version_minor": 0
      },
      "text/plain": [
       "config_sentence_transformers.json:   0%|          | 0.00/122 [00:00<?, ?B/s]"
      ]
     },
     "metadata": {},
     "output_type": "display_data"
    },
    {
     "data": {
      "application/vnd.jupyter.widget-view+json": {
       "model_id": "f2f07a8c10664e209bf477cebab4ae55",
       "version_major": 2,
       "version_minor": 0
      },
      "text/plain": [
       "pytorch_model.bin:   0%|          | 0.00/1.11G [00:00<?, ?B/s]"
      ]
     },
     "metadata": {},
     "output_type": "display_data"
    },
    {
     "data": {
      "application/vnd.jupyter.widget-view+json": {
       "model_id": "f7faae55e07e4f40958540d34691efb5",
       "version_major": 2,
       "version_minor": 0
      },
      "text/plain": [
       "sentence_bert_config.json:   0%|          | 0.00/53.0 [00:00<?, ?B/s]"
      ]
     },
     "metadata": {},
     "output_type": "display_data"
    },
    {
     "data": {
      "application/vnd.jupyter.widget-view+json": {
       "model_id": "504e3f936808412db0d9afbb867bdd59",
       "version_major": 2,
       "version_minor": 0
      },
      "text/plain": [
       "sentencepiece.bpe.model:   0%|          | 0.00/5.07M [00:00<?, ?B/s]"
      ]
     },
     "metadata": {},
     "output_type": "display_data"
    },
    {
     "data": {
      "application/vnd.jupyter.widget-view+json": {
       "model_id": "c91e06c24c9e4e7ea98e2e919a27e0e8",
       "version_major": 2,
       "version_minor": 0
      },
      "text/plain": [
       "special_tokens_map.json:   0%|          | 0.00/239 [00:00<?, ?B/s]"
      ]
     },
     "metadata": {},
     "output_type": "display_data"
    },
    {
     "data": {
      "application/vnd.jupyter.widget-view+json": {
       "model_id": "ed90ac3fe79a497fa028822758003e4f",
       "version_major": 2,
       "version_minor": 0
      },
      "text/plain": [
       "tokenizer.json:   0%|          | 0.00/9.08M [00:00<?, ?B/s]"
      ]
     },
     "metadata": {},
     "output_type": "display_data"
    },
    {
     "data": {
      "application/vnd.jupyter.widget-view+json": {
       "model_id": "3ca3c5ce3cd245ff8c6fff000d8f8edb",
       "version_major": 2,
       "version_minor": 0
      },
      "text/plain": [
       "tokenizer_config.json:   0%|          | 0.00/402 [00:00<?, ?B/s]"
      ]
     },
     "metadata": {},
     "output_type": "display_data"
    },
    {
     "data": {
      "application/vnd.jupyter.widget-view+json": {
       "model_id": "832f86b64dca4758bbc300a3f2980f79",
       "version_major": 2,
       "version_minor": 0
      },
      "text/plain": [
       "modules.json:   0%|          | 0.00/229 [00:00<?, ?B/s]"
      ]
     },
     "metadata": {},
     "output_type": "display_data"
    }
   ],
   "source": [
    "st_model = SentenceTransformer(\n",
    "    'sentence-transformers/paraphrase-multilingual-mpnet-base-v2',\n",
    "    device='cuda'\n",
    ")"
   ]
  },
  {
   "cell_type": "code",
   "execution_count": 10,
   "metadata": {
    "execution": {
     "iopub.execute_input": "2023-11-25T09:43:40.499399Z",
     "iopub.status.busy": "2023-11-25T09:43:40.498433Z",
     "iopub.status.idle": "2023-11-25T09:43:43.719345Z",
     "shell.execute_reply": "2023-11-25T09:43:43.718095Z",
     "shell.execute_reply.started": "2023-11-25T09:43:40.499341Z"
    },
    "tags": []
   },
   "outputs": [],
   "source": [
    "\n",
    "\n",
    "ind2videoid = {ind: video_id for ind, video_id in enumerate(video_ids)}"
   ]
  },
  {
   "cell_type": "code",
   "execution_count": 11,
   "metadata": {
    "execution": {
     "iopub.execute_input": "2023-11-25T09:43:43.721573Z",
     "iopub.status.busy": "2023-11-25T09:43:43.720615Z",
     "iopub.status.idle": "2023-11-25T09:43:43.737157Z",
     "shell.execute_reply": "2023-11-25T09:43:43.736166Z",
     "shell.execute_reply.started": "2023-11-25T09:43:43.721537Z"
    },
    "id": "smzsLVP-1J3A",
    "tags": []
   },
   "outputs": [],
   "source": [
    "def create_db(use_formed_index = True):\n",
    "  #длинна эмбединга модели на выходе\n",
    "  d = 768\n",
    "  #Создание пустой бд\n",
    "  if not use_formed_index:\n",
    "    #для сравнивания векторов будет использоваться косинусное сходство\n",
    "    index = faiss.IndexIDMap(faiss.IndexFlatIP(768))\n",
    "\n",
    "\n",
    "\n",
    "  with open('ind2videoid_15.json', 'w+') as f:\n",
    "    json.dump(ind2videoid, f, indent=4)\n",
    "\n",
    "  batch_size = 100000\n",
    "  num_batches = math.ceil(len(corpus) / batch_size)\n",
    "\n",
    "  generated_cand_name = 'generated_candidates_15.parquet'\n",
    "\n",
    "  if not use_formed_index:\n",
    "    try:\n",
    "        for i in range(num_batches):\n",
    "            # формируем батч\n",
    "            start, end = i * batch_size, (i + 1) * batch_size\n",
    "            corpus_batch = corpus[start:end]\n",
    "\n",
    "            # считаем вектора для всех предложений в батче\n",
    "            embeddings = st_model.encode(\n",
    "                  corpus_batch,\n",
    "                  batch_size=1000,\n",
    "                  show_progress_bar=True\n",
    "            )\n",
    "         \n",
    "\n",
    "            # добавляем новые батч векторов в индекс и сохраняем его\n",
    "            index.add_with_ids(embeddings, np.array(range(start,end)))\n",
    "            print(f'batch: {i + 1} / {num_batches}')\n",
    "            \n",
    "            # чистим ОЗУ\n",
    "            del embeddings\n",
    "        write_index(index, 'candidates_15.index')\n",
    "\n",
    "        \n",
    "\n",
    "    except KeyboardInterrupt:\n",
    "        print('Остановлено пользователем')\n",
    "        try:\n",
    "            del embeddings\n",
    "        except:\n",
    "            pass\n"
   ]
  },
  {
   "cell_type": "code",
   "execution_count": 11,
   "metadata": {
    "execution": {
     "iopub.execute_input": "2023-11-25T06:24:40.617627Z",
     "iopub.status.busy": "2023-11-25T06:24:40.616804Z",
     "iopub.status.idle": "2023-11-25T06:24:40.651172Z",
     "shell.execute_reply": "2023-11-25T06:24:40.649930Z",
     "shell.execute_reply.started": "2023-11-25T06:24:40.617578Z"
    },
    "id": "ZYfeXxojr7xa",
    "tags": []
   },
   "outputs": [
    {
     "ename": "\u001b[0;31mKernelOutOfMemory\u001b[0m",
     "evalue": "Kernel ran out of memory and has been restarted. If the restart fails, restart the kernel from the Kernel menu.\nIf the error persists, try choosing a different configuration or optimizing your code.",
     "output_type": "error",
     "traceback": []
    }
   ],
   "source": [
    "start=time.time()\n",
    "create_db(True)\n",
    "end=time.time()"
   ]
  },
  {
   "cell_type": "code",
   "execution_count": null,
   "metadata": {
    "tags": []
   },
   "outputs": [],
   "source": [
    "end-start"
   ]
  },
  {
   "cell_type": "code",
   "execution_count": null,
   "metadata": {
    "id": "vfoLOA7prjbj"
   },
   "outputs": [],
   "source": []
  },
  {
   "cell_type": "code",
   "execution_count": 27,
   "metadata": {
    "id": "dTHjMkb3q1Ck"
   },
   "outputs": [],
   "source": []
  },
  {
   "cell_type": "markdown",
   "metadata": {
    "id": "QVI-uMi_4pX7"
   },
   "source": [
    "# Подбор кандидатов по базе векторов"
   ]
  },
  {
   "cell_type": "code",
   "execution_count": 12,
   "metadata": {
    "execution": {
     "iopub.execute_input": "2023-11-25T09:43:43.739265Z",
     "iopub.status.busy": "2023-11-25T09:43:43.738463Z",
     "iopub.status.idle": "2023-11-25T09:43:43.754470Z",
     "shell.execute_reply": "2023-11-25T09:43:43.753413Z",
     "shell.execute_reply.started": "2023-11-25T09:43:43.739233Z"
    },
    "id": "cagNnWRcDDE0",
    "tags": []
   },
   "outputs": [],
   "source": [
    "def read_parquets():\n",
    "    automarkup = pd.read_parquet(\n",
    "      '/home/jupyter/datasphere/project/data/automarkup.parquet',\n",
    "      engine='fastparquet'\n",
    "    )\n",
    "  \n",
    "    automarkup = automarkup[~automarkup['query'].isna()]\n",
    "    automarkup['query'] = automarkup['query'].apply(lambda x: x.lower())\n",
    "  \n",
    "    #чтение фичей с паркета + одновременный отсев до самой последней дате обновления фичей\n",
    "    features_parquet = pq.ParquetFile('/home/jupyter/datasphere/project/data/features.parquet')\n",
    "    features, filter_date = None, '2023-05-02'\n",
    "  \n",
    "    for batch in features_parquet.iter_batches():\n",
    "        tmp = batch.to_pandas()\n",
    "        if features is None:\n",
    "            features = tmp[tmp['report_date'] == filter_date]\n",
    "        else:\n",
    "            features = pd.concat([\n",
    "                features,\n",
    "                tmp[tmp['report_date'] == filter_date]\n",
    "            ], axis=0)\n",
    "  \n",
    "    return [automarkup,features]"
   ]
  },
  {
   "cell_type": "code",
   "execution_count": 13,
   "metadata": {
    "execution": {
     "iopub.execute_input": "2023-11-25T09:43:43.756567Z",
     "iopub.status.busy": "2023-11-25T09:43:43.755685Z",
     "iopub.status.idle": "2023-11-25T10:11:53.002191Z",
     "shell.execute_reply": "2023-11-25T10:11:53.000904Z",
     "shell.execute_reply.started": "2023-11-25T09:43:43.756519Z"
    },
    "id": "JIg5U4RKTRvW",
    "tags": []
   },
   "outputs": [],
   "source": [
    "automarkup, features = read_parquets()"
   ]
  },
  {
   "cell_type": "code",
   "execution_count": 14,
   "metadata": {
    "execution": {
     "iopub.execute_input": "2023-11-25T10:11:53.004239Z",
     "iopub.status.busy": "2023-11-25T10:11:53.003457Z",
     "iopub.status.idle": "2023-11-25T10:21:31.291708Z",
     "shell.execute_reply": "2023-11-25T10:21:31.290563Z",
     "shell.execute_reply.started": "2023-11-25T10:11:53.004192Z"
    },
    "id": "1DUWJ2LK6BSb",
    "tags": []
   },
   "outputs": [],
   "source": [
    "search_cpu_index = read_index('candidates_15.index')\n",
    "search_cpu_index.is_trained, search_cpu_index.ntotal\n",
    "\n",
    "def get_top_k_videos(queries, search_cpu_index, topk = 5):\n",
    "  \n",
    "  \n",
    "    generated_cand_name = 'generated_candidates_15.parquet'\n",
    "    qembeddings = st_model.encode(\n",
    "        queries,\n",
    "        batch_size=1000,\n",
    "        show_progress_bar=True\n",
    "    )\n",
    "  \n",
    "    distance, faiss_ind = search_cpu_index.search(qembeddings, topk)\n",
    "    generated_cand = {\n",
    "        'query': [],\n",
    "        'video_id': []\n",
    "    }\n",
    "    for i, q in enumerate(queries):\n",
    "        vids = faiss_ind[i]\n",
    "        generated_cand['video_id'] += [ind2videoid[v] for v in vids]\n",
    "        generated_cand['query'] += [q] * len(vids)\n",
    "    generated_cand = pd.DataFrame(generated_cand)\n",
    "    generated_cand.to_parquet(\n",
    "        generated_cand_name,\n",
    "        engine='fastparquet'\n",
    "    )\n",
    "    return generated_cand"
   ]
  },
  {
   "cell_type": "code",
   "execution_count": 15,
   "metadata": {
    "execution": {
     "iopub.execute_input": "2023-11-25T10:21:31.294433Z",
     "iopub.status.busy": "2023-11-25T10:21:31.293163Z",
     "iopub.status.idle": "2023-11-25T10:21:31.322106Z",
     "shell.execute_reply": "2023-11-25T10:21:31.321050Z",
     "shell.execute_reply.started": "2023-11-25T10:21:31.294355Z"
    },
    "tags": []
   },
   "outputs": [],
   "source": [
    "def finall_sim_top(queries,search_cpu_index):\n",
    "    generated_cand=get_top_k_videos(queries,search_cpu_index)\n",
    "    generated_cand=generated_cand.merge(features,how='inner',left_on='video_id',right_on='video_id')\n",
    "    generated_cand=generated_cand.merge(candidates,how='inner',left_on='video_id',right_on='video_id')\n",
    "    return generated_cand"
   ]
  },
  {
   "cell_type": "code",
   "execution_count": 19,
   "metadata": {
    "colab": {
     "base_uri": "https://localhost:8080/",
     "height": 297
    },
    "execution": {
     "iopub.execute_input": "2023-11-25T10:24:13.957518Z",
     "iopub.status.busy": "2023-11-25T10:24:13.956291Z",
     "iopub.status.idle": "2023-11-25T10:24:52.421341Z",
     "shell.execute_reply": "2023-11-25T10:24:52.420026Z",
     "shell.execute_reply.started": "2023-11-25T10:24:13.957468Z"
    },
    "id": "rOYQB6LH8a1E",
    "outputId": "5104e5c8-7838-420f-98b8-b175fd52c4fe",
    "tags": []
   },
   "outputs": [
    {
     "data": {
      "application/vnd.jupyter.widget-view+json": {
       "model_id": "30608888549d4e37a740fbc8918f91b4",
       "version_major": 2,
       "version_minor": 0
      },
      "text/plain": [
       "Batches:   0%|          | 0/1 [00:00<?, ?it/s]"
      ]
     },
     "metadata": {},
     "output_type": "display_data"
    }
   ],
   "source": [
    "generated_cand=finall_sim_top(['Россия сейчас'],search_cpu_index)"
   ]
  },
  {
   "cell_type": "code",
   "execution_count": 20,
   "metadata": {
    "execution": {
     "iopub.execute_input": "2023-11-25T10:24:52.423766Z",
     "iopub.status.busy": "2023-11-25T10:24:52.423128Z",
     "iopub.status.idle": "2023-11-25T10:24:52.501842Z",
     "shell.execute_reply": "2023-11-25T10:24:52.500758Z",
     "shell.execute_reply.started": "2023-11-25T10:24:52.423700Z"
    },
    "id": "1Gh9RFn385Nq",
    "tags": []
   },
   "outputs": [
    {
     "data": {
      "text/html": [
       "<div>\n",
       "<style scoped>\n",
       "    .dataframe tbody tr th:only-of-type {\n",
       "        vertical-align: middle;\n",
       "    }\n",
       "\n",
       "    .dataframe tbody tr th {\n",
       "        vertical-align: top;\n",
       "    }\n",
       "\n",
       "    .dataframe thead th {\n",
       "        text-align: right;\n",
       "    }\n",
       "</style>\n",
       "<table border=\"1\" class=\"dataframe\">\n",
       "  <thead>\n",
       "    <tr style=\"text-align: right;\">\n",
       "      <th></th>\n",
       "      <th>query</th>\n",
       "      <th>video_id</th>\n",
       "      <th>report_date</th>\n",
       "      <th>v_channel_reg_datetime</th>\n",
       "      <th>v_channel_type</th>\n",
       "      <th>v_category</th>\n",
       "      <th>v_pub_datetime</th>\n",
       "      <th>total_comments</th>\n",
       "      <th>v_year_views</th>\n",
       "      <th>v_month_views</th>\n",
       "      <th>v_week_views</th>\n",
       "      <th>v_day_views</th>\n",
       "      <th>v_likes</th>\n",
       "      <th>v_dislikes</th>\n",
       "      <th>v_duration</th>\n",
       "      <th>v_cr_click_like_7_days</th>\n",
       "      <th>v_cr_click_dislike_7_days</th>\n",
       "      <th>v_cr_click_vtop_7_days</th>\n",
       "      <th>v_cr_click_long_view_7_days</th>\n",
       "      <th>v_cr_click_comment_7_days</th>\n",
       "      <th>v_cr_click_like_30_days</th>\n",
       "      <th>v_cr_click_dislike_30_days</th>\n",
       "      <th>v_cr_click_vtop_30_days</th>\n",
       "      <th>v_cr_click_long_view_30_days</th>\n",
       "      <th>v_cr_click_comment_30_days</th>\n",
       "      <th>v_cr_click_like_1_days</th>\n",
       "      <th>v_cr_click_dislike_1_days</th>\n",
       "      <th>v_cr_click_vtop_1_days</th>\n",
       "      <th>v_cr_click_long_view_1_days</th>\n",
       "      <th>v_cr_click_comment_1_days</th>\n",
       "      <th>video_title</th>\n",
       "    </tr>\n",
       "  </thead>\n",
       "  <tbody>\n",
       "    <tr>\n",
       "      <th>0</th>\n",
       "      <td>Россия сейчас</td>\n",
       "      <td>video_25643733</td>\n",
       "      <td>2023-05-02</td>\n",
       "      <td>2022-06-24 11:43:32</td>\n",
       "      <td>UGC</td>\n",
       "      <td>Лайфстайл</td>\n",
       "      <td>2022-07-28 17:05:26</td>\n",
       "      <td>0</td>\n",
       "      <td>83</td>\n",
       "      <td>0</td>\n",
       "      <td>0</td>\n",
       "      <td>0</td>\n",
       "      <td>0</td>\n",
       "      <td>0</td>\n",
       "      <td>52667</td>\n",
       "      <td>0.0</td>\n",
       "      <td>0.0</td>\n",
       "      <td>0.0</td>\n",
       "      <td>0.0</td>\n",
       "      <td>0.0</td>\n",
       "      <td>0.0</td>\n",
       "      <td>0.0</td>\n",
       "      <td>0.0</td>\n",
       "      <td>0.0</td>\n",
       "      <td>0.0</td>\n",
       "      <td>0.0</td>\n",
       "      <td>0.0</td>\n",
       "      <td>0.0</td>\n",
       "      <td>0.0</td>\n",
       "      <td>0.0</td>\n",
       "      <td>This is Russia</td>\n",
       "    </tr>\n",
       "    <tr>\n",
       "      <th>1</th>\n",
       "      <td>Россия сейчас</td>\n",
       "      <td>video_20014178</td>\n",
       "      <td>2023-05-02</td>\n",
       "      <td>2021-09-29 08:38:42</td>\n",
       "      <td>UGC</td>\n",
       "      <td>Технологии и интернет</td>\n",
       "      <td>2022-01-17 11:46:34</td>\n",
       "      <td>0</td>\n",
       "      <td>0</td>\n",
       "      <td>0</td>\n",
       "      <td>0</td>\n",
       "      <td>0</td>\n",
       "      <td>0</td>\n",
       "      <td>0</td>\n",
       "      <td>7240122</td>\n",
       "      <td>0.0</td>\n",
       "      <td>0.0</td>\n",
       "      <td>0.0</td>\n",
       "      <td>0.0</td>\n",
       "      <td>0.0</td>\n",
       "      <td>0.0</td>\n",
       "      <td>0.0</td>\n",
       "      <td>0.0</td>\n",
       "      <td>0.0</td>\n",
       "      <td>0.0</td>\n",
       "      <td>0.0</td>\n",
       "      <td>0.0</td>\n",
       "      <td>0.0</td>\n",
       "      <td>0.0</td>\n",
       "      <td>0.0</td>\n",
       "      <td>Russia: Global focus</td>\n",
       "    </tr>\n",
       "    <tr>\n",
       "      <th>2</th>\n",
       "      <td>Россия сейчас</td>\n",
       "      <td>video_14816104</td>\n",
       "      <td>2023-05-02</td>\n",
       "      <td>2022-03-28 11:00:40</td>\n",
       "      <td>ПрофКонтент</td>\n",
       "      <td>Искусство</td>\n",
       "      <td>2022-04-03 17:28:34</td>\n",
       "      <td>0</td>\n",
       "      <td>1</td>\n",
       "      <td>0</td>\n",
       "      <td>0</td>\n",
       "      <td>0</td>\n",
       "      <td>0</td>\n",
       "      <td>0</td>\n",
       "      <td>157409</td>\n",
       "      <td>0.0</td>\n",
       "      <td>0.0</td>\n",
       "      <td>0.0</td>\n",
       "      <td>0.0</td>\n",
       "      <td>0.0</td>\n",
       "      <td>0.0</td>\n",
       "      <td>0.0</td>\n",
       "      <td>0.0</td>\n",
       "      <td>0.0</td>\n",
       "      <td>0.0</td>\n",
       "      <td>0.0</td>\n",
       "      <td>0.0</td>\n",
       "      <td>0.0</td>\n",
       "      <td>0.0</td>\n",
       "      <td>0.0</td>\n",
       "      <td>Познавай Россию</td>\n",
       "    </tr>\n",
       "    <tr>\n",
       "      <th>3</th>\n",
       "      <td>Россия сейчас</td>\n",
       "      <td>video_33228630</td>\n",
       "      <td>2023-05-02</td>\n",
       "      <td>2022-04-03 07:16:27</td>\n",
       "      <td>UGC</td>\n",
       "      <td>Наука</td>\n",
       "      <td>2022-04-03 07:53:00</td>\n",
       "      <td>0</td>\n",
       "      <td>0</td>\n",
       "      <td>0</td>\n",
       "      <td>0</td>\n",
       "      <td>0</td>\n",
       "      <td>0</td>\n",
       "      <td>0</td>\n",
       "      <td>43257</td>\n",
       "      <td>0.0</td>\n",
       "      <td>0.0</td>\n",
       "      <td>0.0</td>\n",
       "      <td>0.0</td>\n",
       "      <td>0.0</td>\n",
       "      <td>0.0</td>\n",
       "      <td>0.0</td>\n",
       "      <td>0.0</td>\n",
       "      <td>0.0</td>\n",
       "      <td>0.0</td>\n",
       "      <td>0.0</td>\n",
       "      <td>0.0</td>\n",
       "      <td>0.0</td>\n",
       "      <td>0.0</td>\n",
       "      <td>0.0</td>\n",
       "      <td>История России</td>\n",
       "    </tr>\n",
       "  </tbody>\n",
       "</table>\n",
       "</div>"
      ],
      "text/plain": [
       "           query  ...           video_title\n",
       "0  Россия сейчас  ...        This is Russia\n",
       "1  Россия сейчас  ...  Russia: Global focus\n",
       "2  Россия сейчас  ...       Познавай Россию\n",
       "3  Россия сейчас  ...        История России\n",
       "\n",
       "[4 rows x 31 columns]"
      ]
     },
     "execution_count": 20,
     "metadata": {},
     "output_type": "execute_result"
    }
   ],
   "source": [
    "generated_cand"
   ]
  },
  {
   "cell_type": "code",
   "execution_count": null,
   "metadata": {
    "id": "vrBsKn9oA4Ff"
   },
   "outputs": [],
   "source": []
  },
  {
   "cell_type": "markdown",
   "metadata": {
    "id": "MQVu3Fr_xH7e"
   },
   "source": [
    "# Формирование датасета"
   ]
  },
  {
   "cell_type": "code",
   "execution_count": null,
   "metadata": {
    "id": "py3GSIbOMAn-"
   },
   "outputs": [],
   "source": [
    "# очищаем ОЗУ\n",
    "#del generated_cand\n",
    "#del search_cpu_index\n",
    "#del automarkup\n",
    "#del st_model\n",
    "#del qembeddings"
   ]
  },
  {
   "cell_type": "code",
   "execution_count": 21,
   "metadata": {
    "execution": {
     "iopub.execute_input": "2023-11-25T10:25:46.225945Z",
     "iopub.status.busy": "2023-11-25T10:25:46.224578Z",
     "iopub.status.idle": "2023-11-25T10:25:46.298573Z",
     "shell.execute_reply": "2023-11-25T10:25:46.297315Z",
     "shell.execute_reply.started": "2023-11-25T10:25:46.225903Z"
    },
    "tags": []
   },
   "outputs": [],
   "source": [
    "\n",
    "data = pd.read_csv('/home/jupyter/datasphere/project/manualmarkup.csv', on_bad_lines='skip',sep=',')\n",
    "data =data.dropna(axis=0)"
   ]
  },
  {
   "cell_type": "code",
   "execution_count": 22,
   "metadata": {
    "execution": {
     "iopub.execute_input": "2023-11-25T10:25:46.605491Z",
     "iopub.status.busy": "2023-11-25T10:25:46.604699Z",
     "iopub.status.idle": "2023-11-25T10:25:46.621165Z",
     "shell.execute_reply": "2023-11-25T10:25:46.620116Z",
     "shell.execute_reply.started": "2023-11-25T10:25:46.605455Z"
    },
    "tags": []
   },
   "outputs": [],
   "source": [
    "marks=set(data['sentiment'].values)\n",
    "marcks_to_int={'useful': 3, 'could_be_better': 2, 'exact' : 1, 'uselessly': 0, 'сlickbait': 4}"
   ]
  },
  {
   "cell_type": "code",
   "execution_count": 23,
   "metadata": {
    "execution": {
     "iopub.execute_input": "2023-11-25T10:25:47.573172Z",
     "iopub.status.busy": "2023-11-25T10:25:47.572159Z",
     "iopub.status.idle": "2023-11-25T10:25:49.011863Z",
     "shell.execute_reply": "2023-11-25T10:25:49.010477Z",
     "shell.execute_reply.started": "2023-11-25T10:25:47.573117Z"
    },
    "tags": []
   },
   "outputs": [],
   "source": [
    "def v_channel_reg_and_pub_datetime(pub_datetime):\n",
    "    datetime_now = datetime.now()\n",
    "    try:\n",
    "        pub_datetime = datetime.strptime(pub_datetime, \"%Y-%m-%d %H:%M:%S\")\n",
    "        delta = datetime_now - pub_datetime\n",
    "        return delta.days\n",
    "    except ValueError:\n",
    "        return None\n",
    "\n",
    "category = list(set(list(features[\"v_category\"])))\n",
    "def v_category_to_type(v_channel_type):\n",
    "\n",
    "    category_dict = {value: category for category, value in enumerate(category)}\n",
    "    result = category_dict.get(v_channel_type)\n",
    "\n",
    "    return result\n",
    "\n",
    "chanell = list(set(list(features[\"v_channel_type\"])))\n",
    "def v_channel_type_to_type(v_channel_type):\n",
    "    channel_type_mapping = {value: category for category, value in enumerate(chanell)}\n",
    "\n",
    "    return channel_type_mapping.get(v_channel_type)"
   ]
  },
  {
   "cell_type": "code",
   "execution_count": 24,
   "metadata": {
    "execution": {
     "iopub.execute_input": "2023-11-25T10:25:49.014962Z",
     "iopub.status.busy": "2023-11-25T10:25:49.013902Z",
     "iopub.status.idle": "2023-11-25T10:25:49.030201Z",
     "shell.execute_reply": "2023-11-25T10:25:49.029129Z",
     "shell.execute_reply.started": "2023-11-25T10:25:49.014895Z"
    },
    "id": "dsGHNP8M9jV0",
    "tags": []
   },
   "outputs": [],
   "source": [
    "def create_dataset(data,features):\n",
    "  \n",
    "    full_df2=data.merge(features, how='inner',left_on='video_id',right_on='video_id')\n",
    "    marks=set(data['sentiment'].values)\n",
    "    full_df2['sentiment']=full_df2['sentiment'].map(lambda x: marcks_to_int[x]/len(marks))\n",
    "    #запихиваем значение position в диапозон от 0 до 1\n",
    "    #print(set(full_df2['position'].values))\n",
    "    #full_df2['position']=full_df2['position']/len(set(full_df2['position'].values))\n",
    "    #full_df2['vtop'] = full_df2['vtop'].fillna(0)\n",
    "    full_df2[\"v_channel_type\"] = full_df2[\"v_channel_type\"].map(v_channel_type_to_type)\n",
    "    full_df2[\"v_category\"] = full_df2[\"v_category\"].map(v_category_to_type)\n",
    "    #full_df2[\"v_channel_reg_datetime\"] = full_df2[\"v_channel_reg_datetime\"].map(v_channel_reg_and_pub_datetime)\n",
    "    #full_df2[\"v_pub_datetime\"] = full_df2[\"v_pub_datetime\"].map(v_channel_reg_and_pub_datetime)\n",
    "  \n",
    "    full_df2 = full_df2.drop([\"v_year_views\", \"v_week_views\", \"v_day_views\", \"v_week_views\",\n",
    "                   \"v_cr_click_dislike_30_days\",\t\"v_cr_click_vtop_30_days\",\n",
    "                   \"v_cr_click_long_view_30_days\",\t\"v_cr_click_comment_30_days\",\n",
    "                   \"v_cr_click_like_1_days\",\t\"v_cr_click_vtop_1_days\",\n",
    "                   \"v_cr_click_long_view_1_days\",\t\"v_cr_click_comment_1_days\",\n",
    "                   \"query_date\", \"report_date\",  \"v_cr_click_like_7_days\",\n",
    "                   \"v_cr_click_dislike_7_days\", \"v_cr_click_vtop_7_days\",\n",
    "                   \"v_cr_click_long_view_7_days\", \"v_cr_click_comment_7_days\",\n",
    "                   \"v_cr_click_like_30_days\", \"v_cr_click_dislike_1_days\"], axis=1)\n",
    "  \n",
    "    #объеденение видео в группы по запросам\n",
    "    full_df2['group_id'] = full_df2.groupby(['query']).ngroup()\n",
    "  \n",
    "    return full_df2\n"
   ]
  },
  {
   "cell_type": "code",
   "execution_count": 25,
   "metadata": {
    "colab": {
     "base_uri": "https://localhost:8080/"
    },
    "execution": {
     "iopub.execute_input": "2023-11-25T10:25:51.208322Z",
     "iopub.status.busy": "2023-11-25T10:25:51.207316Z",
     "iopub.status.idle": "2023-11-25T10:26:03.214013Z",
     "shell.execute_reply": "2023-11-25T10:26:03.212929Z",
     "shell.execute_reply.started": "2023-11-25T10:25:51.208270Z"
    },
    "id": "noevbTPpFDG_",
    "outputId": "f75e4f14-fa59-4acd-fd4a-f152d364a026",
    "tags": []
   },
   "outputs": [],
   "source": [
    "full_df2 = create_dataset(data,features)"
   ]
  },
  {
   "cell_type": "code",
   "execution_count": 26,
   "metadata": {
    "colab": {
     "base_uri": "https://localhost:8080/"
    },
    "execution": {
     "iopub.execute_input": "2023-11-25T10:26:03.216672Z",
     "iopub.status.busy": "2023-11-25T10:26:03.215656Z",
     "iopub.status.idle": "2023-11-25T10:26:03.231793Z",
     "shell.execute_reply": "2023-11-25T10:26:03.230327Z",
     "shell.execute_reply.started": "2023-11-25T10:26:03.216612Z"
    },
    "id": "IDYDyx07KZiJ",
    "outputId": "0ab75506-f521-451c-b135-612282d38029",
    "tags": []
   },
   "outputs": [
    {
     "data": {
      "text/plain": [
       "Index(['query', 'video_id', 'sentiment', 'v_channel_reg_datetime',\n",
       "       'v_channel_type', 'v_category', 'v_pub_datetime', 'total_comments',\n",
       "       'v_month_views', 'v_likes', 'v_dislikes', 'v_duration', 'group_id'],\n",
       "      dtype='object')"
      ]
     },
     "execution_count": 26,
     "metadata": {},
     "output_type": "execute_result"
    }
   ],
   "source": [
    "full_df2.columns"
   ]
  },
  {
   "cell_type": "markdown",
   "metadata": {
    "id": "gYzUULbNSQuy"
   },
   "source": [
    "# разбивка датасета для обучения"
   ]
  },
  {
   "cell_type": "code",
   "execution_count": 27,
   "metadata": {
    "execution": {
     "iopub.execute_input": "2023-11-25T10:26:03.235464Z",
     "iopub.status.busy": "2023-11-25T10:26:03.234510Z",
     "iopub.status.idle": "2023-11-25T10:26:03.251160Z",
     "shell.execute_reply": "2023-11-25T10:26:03.249990Z",
     "shell.execute_reply.started": "2023-11-25T10:26:03.235412Z"
    },
    "id": "5HkIX4LTMAn-",
    "tags": []
   },
   "outputs": [],
   "source": [
    "groups = pd.Series(full_df2['group_id'].unique())\n",
    "permutation = groups.sample(frac=1, random_state=seed)\n",
    "train_groups, val_groups, test_groups = np.split(\n",
    "    permutation,\n",
    "    [int(0.75 * len(permutation)), int(0.90 * len(permutation))]\n",
    ")"
   ]
  },
  {
   "cell_type": "code",
   "execution_count": 28,
   "metadata": {
    "execution": {
     "iopub.execute_input": "2023-11-25T10:26:03.253604Z",
     "iopub.status.busy": "2023-11-25T10:26:03.252939Z",
     "iopub.status.idle": "2023-11-25T10:26:03.271440Z",
     "shell.execute_reply": "2023-11-25T10:26:03.270357Z",
     "shell.execute_reply.started": "2023-11-25T10:26:03.253567Z"
    },
    "id": "IEuKZYtNMAn-",
    "tags": []
   },
   "outputs": [],
   "source": [
    "train_df = full_df2[full_df2['group_id'].isin(train_groups)]\n",
    "val_df = full_df2[full_df2['group_id'].isin(val_groups)]\n",
    "test_df = full_df2[full_df2['group_id'].isin(test_groups)]"
   ]
  },
  {
   "cell_type": "code",
   "execution_count": 29,
   "metadata": {
    "colab": {
     "base_uri": "https://localhost:8080/",
     "height": 349
    },
    "execution": {
     "iopub.execute_input": "2023-11-25T10:26:03.273603Z",
     "iopub.status.busy": "2023-11-25T10:26:03.272779Z",
     "iopub.status.idle": "2023-11-25T10:26:03.310883Z",
     "shell.execute_reply": "2023-11-25T10:26:03.309655Z",
     "shell.execute_reply.started": "2023-11-25T10:26:03.273556Z"
    },
    "id": "ATWbQDQ5AS8e",
    "outputId": "dd9643c8-b316-44cd-d7f1-70538e58b13f",
    "tags": []
   },
   "outputs": [
    {
     "data": {
      "text/html": [
       "<div>\n",
       "<style scoped>\n",
       "    .dataframe tbody tr th:only-of-type {\n",
       "        vertical-align: middle;\n",
       "    }\n",
       "\n",
       "    .dataframe tbody tr th {\n",
       "        vertical-align: top;\n",
       "    }\n",
       "\n",
       "    .dataframe thead th {\n",
       "        text-align: right;\n",
       "    }\n",
       "</style>\n",
       "<table border=\"1\" class=\"dataframe\">\n",
       "  <thead>\n",
       "    <tr style=\"text-align: right;\">\n",
       "      <th></th>\n",
       "      <th>query</th>\n",
       "      <th>video_id</th>\n",
       "      <th>sentiment</th>\n",
       "      <th>v_channel_reg_datetime</th>\n",
       "      <th>v_channel_type</th>\n",
       "      <th>v_category</th>\n",
       "      <th>v_pub_datetime</th>\n",
       "      <th>total_comments</th>\n",
       "      <th>v_month_views</th>\n",
       "      <th>v_likes</th>\n",
       "      <th>v_dislikes</th>\n",
       "      <th>v_duration</th>\n",
       "      <th>group_id</th>\n",
       "    </tr>\n",
       "  </thead>\n",
       "  <tbody>\n",
       "    <tr>\n",
       "      <th>1904</th>\n",
       "      <td>главные вопросы сексологу / оргазмы/ нормы /по...</td>\n",
       "      <td>video_11982384</td>\n",
       "      <td>0.0</td>\n",
       "      <td>2019-08-27 19:29:12</td>\n",
       "      <td>1</td>\n",
       "      <td>8</td>\n",
       "      <td>2022-03-24 08:04:33</td>\n",
       "      <td>0</td>\n",
       "      <td>0</td>\n",
       "      <td>0</td>\n",
       "      <td>0</td>\n",
       "      <td>11634</td>\n",
       "      <td>265</td>\n",
       "    </tr>\n",
       "    <tr>\n",
       "      <th>978</th>\n",
       "      <td>грешницы</td>\n",
       "      <td>video_1668129</td>\n",
       "      <td>0.0</td>\n",
       "      <td>2019-05-23 17:20:06</td>\n",
       "      <td>1</td>\n",
       "      <td>20</td>\n",
       "      <td>2019-05-26 07:52:56</td>\n",
       "      <td>0</td>\n",
       "      <td>2</td>\n",
       "      <td>0</td>\n",
       "      <td>0</td>\n",
       "      <td>751561</td>\n",
       "      <td>278</td>\n",
       "    </tr>\n",
       "    <tr>\n",
       "      <th>6234</th>\n",
       "      <td>лебедевский мост в казани</td>\n",
       "      <td>video_30366870</td>\n",
       "      <td>0.0</td>\n",
       "      <td>2012-11-24 18:49:19</td>\n",
       "      <td>1</td>\n",
       "      <td>27</td>\n",
       "      <td>2023-03-11 20:11:13</td>\n",
       "      <td>0</td>\n",
       "      <td>1</td>\n",
       "      <td>0</td>\n",
       "      <td>0</td>\n",
       "      <td>87537</td>\n",
       "      <td>473</td>\n",
       "    </tr>\n",
       "  </tbody>\n",
       "</table>\n",
       "</div>"
      ],
      "text/plain": [
       "                                                  query  ... group_id\n",
       "1904  главные вопросы сексологу / оргазмы/ нормы /по...  ...      265\n",
       "978                                            грешницы  ...      278\n",
       "6234                          лебедевский мост в казани  ...      473\n",
       "\n",
       "[3 rows x 13 columns]"
      ]
     },
     "execution_count": 29,
     "metadata": {},
     "output_type": "execute_result"
    }
   ],
   "source": [
    "train_df.sample(3)"
   ]
  },
  {
   "cell_type": "code",
   "execution_count": 30,
   "metadata": {
    "execution": {
     "iopub.execute_input": "2023-11-25T10:26:03.313595Z",
     "iopub.status.busy": "2023-11-25T10:26:03.312495Z",
     "iopub.status.idle": "2023-11-25T10:26:03.331659Z",
     "shell.execute_reply": "2023-11-25T10:26:03.330590Z",
     "shell.execute_reply.started": "2023-11-25T10:26:03.313523Z"
    },
    "id": "LaW_H1z7MAn_",
    "tags": []
   },
   "outputs": [],
   "source": [
    "train_df = train_df.sort_values('group_id')\n",
    "val_df = val_df.sort_values('group_id')\n",
    "test_df = test_df.sort_values('group_id')"
   ]
  },
  {
   "cell_type": "code",
   "execution_count": 31,
   "metadata": {
    "execution": {
     "iopub.execute_input": "2023-11-25T10:26:03.333985Z",
     "iopub.status.busy": "2023-11-25T10:26:03.332842Z",
     "iopub.status.idle": "2023-11-25T10:26:03.350272Z",
     "shell.execute_reply": "2023-11-25T10:26:03.349169Z",
     "shell.execute_reply.started": "2023-11-25T10:26:03.333930Z"
    },
    "id": "2PLihIxrMAn_",
    "tags": []
   },
   "outputs": [],
   "source": [
    "metainfo_columns = ['query', 'video_id', 'group_id', 'v_channel_reg_datetime','v_pub_datetime','sentiment']\n",
    "\n",
    "X_train = train_df.drop(metainfo_columns, axis=1)\n",
    "y_train, g_train = train_df['sentiment'], train_df['group_id']\n",
    "\n",
    "X_val = val_df.drop(metainfo_columns, axis=1)\n",
    "y_val, g_val = val_df['sentiment'], val_df['group_id']\n",
    "\n",
    "X_test = test_df.drop(metainfo_columns, axis=1)\n",
    "y_test, g_test = test_df['sentiment'], test_df['group_id']"
   ]
  },
  {
   "cell_type": "code",
   "execution_count": 32,
   "metadata": {
    "colab": {
     "base_uri": "https://localhost:8080/",
     "height": 807
    },
    "execution": {
     "iopub.execute_input": "2023-11-25T10:26:03.353896Z",
     "iopub.status.busy": "2023-11-25T10:26:03.353222Z",
     "iopub.status.idle": "2023-11-25T10:26:03.426399Z",
     "shell.execute_reply": "2023-11-25T10:26:03.425269Z",
     "shell.execute_reply.started": "2023-11-25T10:26:03.353846Z"
    },
    "id": "pc936BfZMAn_",
    "outputId": "abd33ded-28f9-42ee-b407-d10c136d5a03",
    "tags": []
   },
   "outputs": [],
   "source": [
    "train = Pool(\n",
    "    data=X_train.values,\n",
    "    label=y_train.values,\n",
    "    group_id=g_train.values,\n",
    "    feature_names=X_train.columns.to_list()\n",
    ")\n",
    "\n",
    "val = Pool(\n",
    "    data=X_val.values,\n",
    "    label=y_val.values,\n",
    "    group_id=g_val.values,\n",
    "    feature_names=X_val.columns.to_list()\n",
    ")\n",
    "\n",
    "test = Pool(\n",
    "    data=X_test.values,\n",
    "    label=y_test.values,\n",
    "    group_id=g_test.values,\n",
    "    feature_names=X_test.columns.to_list()\n",
    ")"
   ]
  },
  {
   "cell_type": "markdown",
   "metadata": {
    "id": "aNP8NAaPMAn_"
   },
   "source": [
    "# Обучение модели"
   ]
  },
  {
   "cell_type": "code",
   "execution_count": 33,
   "metadata": {
    "execution": {
     "iopub.execute_input": "2023-11-25T10:26:03.428501Z",
     "iopub.status.busy": "2023-11-25T10:26:03.427927Z",
     "iopub.status.idle": "2023-11-25T10:26:03.442024Z",
     "shell.execute_reply": "2023-11-25T10:26:03.440982Z",
     "shell.execute_reply.started": "2023-11-25T10:26:03.428465Z"
    },
    "id": "ySU4o-pJMAn_",
    "tags": []
   },
   "outputs": [],
   "source": [
    "task_type = 'GPU'\n",
    "metric_period = 250\n",
    "\n",
    "parameters = {\n",
    "    'task_type': task_type,\n",
    "    'verbose': False,\n",
    "    'random_seed': seed,\n",
    "    'loss_function': 'PairLogitPairwise:max_pairs=1000',\n",
    "#'max_pairs': 1000,\n",
    "    'learning_rate': 0.001,\n",
    "    'l2_leaf_reg': 30,\n",
    "    'iterations': 4000,\n",
    "    'max_depth': 3,\n",
    "}"
   ]
  },
  {
   "cell_type": "code",
   "execution_count": 34,
   "metadata": {
    "colab": {
     "base_uri": "https://localhost:8080/",
     "height": 17,
     "referenced_widgets": [
      "1737f47b1f714779af20dd97ac33054b"
     ]
    },
    "execution": {
     "iopub.execute_input": "2023-11-25T10:26:03.444150Z",
     "iopub.status.busy": "2023-11-25T10:26:03.443335Z",
     "iopub.status.idle": "2023-11-25T10:26:14.384059Z",
     "shell.execute_reply": "2023-11-25T10:26:14.382986Z",
     "shell.execute_reply.started": "2023-11-25T10:26:03.444096Z"
    },
    "id": "S84samOSMAn_",
    "outputId": "2f4051b6-7a8c-493f-ee3e-219173cd4d08",
    "tags": []
   },
   "outputs": [
    {
     "data": {
      "application/vnd.jupyter.widget-view+json": {
       "model_id": "e2dc6bb7ba62424fb283646b527df776",
       "version_major": 2,
       "version_minor": 0
      },
      "text/plain": [
       "MetricVisualizer(layout=Layout(align_self='stretch', height='500px'))"
      ]
     },
     "metadata": {},
     "output_type": "display_data"
    }
   ],
   "source": [
    "model = CatBoostRanker(**parameters)\n",
    "model = model.fit(\n",
    "    train,\n",
    "    eval_set=val,\n",
    "    plot=True,\n",
    "    use_best_model=True,\n",
    "    metric_period=metric_period\n",
    ")\n",
    "model.save_model('ranker.ckpt')"
   ]
  },
  {
   "cell_type": "markdown",
   "metadata": {
    "id": "2jlqPhDTMAoA"
   },
   "source": [
    "# Измерение метрик"
   ]
  },
  {
   "cell_type": "code",
   "execution_count": 35,
   "metadata": {
    "execution": {
     "iopub.execute_input": "2023-11-25T10:26:14.386341Z",
     "iopub.status.busy": "2023-11-25T10:26:14.385536Z",
     "iopub.status.idle": "2023-11-25T10:26:14.400812Z",
     "shell.execute_reply": "2023-11-25T10:26:14.399533Z",
     "shell.execute_reply.started": "2023-11-25T10:26:14.386304Z"
    },
    "id": "xotKxM2_MAoA",
    "tags": []
   },
   "outputs": [],
   "source": [
    "def _metrics_at(at, model, pool, metric='NDCG'):\n",
    "    metric = metric + f':top={at}'\n",
    "    eval_metrics = model.eval_metrics(pool, metrics=[metric])\n",
    "    best_metrics = {}\n",
    "    for key in eval_metrics.keys():\n",
    "        best_metrics[key] = eval_metrics[key][model.best_iteration_]\n",
    "    return best_metrics\n",
    "\n",
    "\n",
    "metrics_train_at = partial(\n",
    "    _metrics_at,\n",
    "    model=model,\n",
    "    pool=train\n",
    ")\n",
    "\n",
    "metrics_val_at = partial(\n",
    "    _metrics_at,\n",
    "    model=model,\n",
    "    pool=val\n",
    ")\n",
    "\n",
    "metrics_test_at = partial(\n",
    "    _metrics_at,\n",
    "    model=model,\n",
    "    pool=test\n",
    ")"
   ]
  },
  {
   "cell_type": "code",
   "execution_count": 36,
   "metadata": {
    "colab": {
     "base_uri": "https://localhost:8080/"
    },
    "execution": {
     "iopub.execute_input": "2023-11-25T10:26:14.403200Z",
     "iopub.status.busy": "2023-11-25T10:26:14.401968Z",
     "iopub.status.idle": "2023-11-25T10:26:18.570554Z",
     "shell.execute_reply": "2023-11-25T10:26:18.569385Z",
     "shell.execute_reply.started": "2023-11-25T10:26:14.403124Z"
    },
    "id": "yl6pSPg_MAoA",
    "outputId": "05f3af6e-cce0-4404-ab68-ef3c2f6eb728",
    "tags": []
   },
   "outputs": [
    {
     "data": {
      "text/plain": [
       "({'NDCG:top=1;type=Base': 0.6678192703743525},\n",
       " {'NDCG:top=5;type=Base': 0.7917404455264934})"
      ]
     },
     "execution_count": 36,
     "metadata": {},
     "output_type": "execute_result"
    }
   ],
   "source": [
    "metrics_train_at(1), metrics_train_at(5)"
   ]
  },
  {
   "cell_type": "code",
   "execution_count": 37,
   "metadata": {
    "colab": {
     "base_uri": "https://localhost:8080/"
    },
    "execution": {
     "iopub.execute_input": "2023-11-25T10:26:18.572618Z",
     "iopub.status.busy": "2023-11-25T10:26:18.572028Z",
     "iopub.status.idle": "2023-11-25T10:26:21.219356Z",
     "shell.execute_reply": "2023-11-25T10:26:21.218236Z",
     "shell.execute_reply.started": "2023-11-25T10:26:18.572558Z"
    },
    "id": "_xI1O8apMAoA",
    "outputId": "c85b0793-2420-44d8-e0e4-d35856537d19",
    "tags": []
   },
   "outputs": [
    {
     "data": {
      "text/plain": [
       "({'NDCG:top=1;type=Base': 0.7060185173256207},\n",
       " {'NDCG:top=5;type=Base': 0.8036120706662628})"
      ]
     },
     "execution_count": 37,
     "metadata": {},
     "output_type": "execute_result"
    }
   ],
   "source": [
    "metrics_val_at(1), metrics_val_at(5)"
   ]
  },
  {
   "cell_type": "code",
   "execution_count": 38,
   "metadata": {
    "colab": {
     "base_uri": "https://localhost:8080/"
    },
    "execution": {
     "iopub.execute_input": "2023-11-25T10:26:21.221810Z",
     "iopub.status.busy": "2023-11-25T10:26:21.220764Z",
     "iopub.status.idle": "2023-11-25T10:26:23.693399Z",
     "shell.execute_reply": "2023-11-25T10:26:23.692235Z",
     "shell.execute_reply.started": "2023-11-25T10:26:21.221742Z"
    },
    "id": "RPxiuHujMAoA",
    "outputId": "24a4cd23-038f-4cb2-bde0-572ebf5381aa",
    "tags": []
   },
   "outputs": [
    {
     "data": {
      "text/plain": [
       "({'NDCG:top=1;type=Base': 0.7104810975014074},\n",
       " {'NDCG:top=5;type=Base': 0.8097261428820567})"
      ]
     },
     "execution_count": 38,
     "metadata": {},
     "output_type": "execute_result"
    }
   ],
   "source": [
    "metrics_test_at(1), metrics_test_at(5)"
   ]
  },
  {
   "cell_type": "code",
   "execution_count": 39,
   "metadata": {
    "execution": {
     "iopub.execute_input": "2023-11-25T10:26:23.697083Z",
     "iopub.status.busy": "2023-11-25T10:26:23.696249Z",
     "iopub.status.idle": "2023-11-25T10:26:23.715770Z",
     "shell.execute_reply": "2023-11-25T10:26:23.714680Z",
     "shell.execute_reply.started": "2023-11-25T10:26:23.697048Z"
    },
    "id": "WJ-fBO6AMAoA"
   },
   "outputs": [],
   "source": [
    "# очищаем ОЗУ\n",
    "#del model\n",
    "#del full_df\n",
    "#del train_df, val_df, test_df\n",
    "#del train, val, test\n",
    "#del X_train, y_train, g_train\n",
    "#del X_val, y_val, g_val\n",
    "#del X_test, y_test, g_test"
   ]
  }
 ],
 "metadata": {
  "accelerator": "GPU",
  "colab": {
   "collapsed_sections": [
    "gYzUULbNSQuy",
    "aNP8NAaPMAn_"
   ],
   "gpuType": "T4",
   "provenance": []
  },
  "kernelspec": {
   "display_name": "DataSphere Kernel",
   "language": "python",
   "name": "python3"
  },
  "language_info": {
   "codemirror_mode": {
    "name": "ipython",
    "version": 3
   },
   "file_extension": ".py",
   "mimetype": "text/x-python",
   "name": "python",
   "nbconvert_exporter": "python",
   "pygments_lexer": "ipython3",
   "version": "3.7.7"
  },
  "widgets": {
   "application/vnd.jupyter.widget-state+json": {
    "1737f47b1f714779af20dd97ac33054b": {
     "model_module": "catboost-widget",
     "model_module_version": "^1.0.0",
     "model_name": "CatboostWidgetModel",
     "state": {
      "_dom_classes": [],
      "_model_module": "catboost-widget",
      "_model_module_version": "^1.0.0",
      "_model_name": "CatboostWidgetModel",
      "_view_count": null,
      "_view_module": "catboost-widget",
      "_view_module_version": "^1.0.0",
      "_view_name": "CatboostWidgetView",
      "data": {
       "catboost_info": {
        "content": {
         "data": {
          "iterations": [
           {
            "iteration": 0,
            "learn": [
             0.6931169891
            ],
            "passed_time": 0.2595753392,
            "remaining_time": 1038.041782,
            "test": [
             0.6931098333
            ]
           },
           {
            "iteration": 250,
            "learn": [
             0.68713014
            ],
            "passed_time": 5.130850859,
            "remaining_time": 76.63569669,
            "test": [
             0.6852480842
            ]
           },
           {
            "iteration": 500,
            "learn": [
             0.6828290786
            ],
            "passed_time": 6.50512998,
            "remaining_time": 45.43203553,
            "test": [
             0.680016136
            ]
           },
           {
            "iteration": 750,
            "learn": [
             0.6796304003
            ],
            "passed_time": 7.829245151,
            "remaining_time": 33.87112849,
            "test": [
             0.6758745809
            ]
           },
           {
            "iteration": 1000,
            "learn": [
             0.6770374079
            ],
            "passed_time": 9.163706214,
            "remaining_time": 27.45450043,
            "test": [
             0.6726327658
            ]
           },
           {
            "iteration": 1250,
            "learn": [
             0.6748425447
            ],
            "passed_time": 10.5384155,
            "remaining_time": 23.15755733,
            "test": [
             0.6698813033
            ]
           },
           {
            "iteration": 1500,
            "learn": [
             0.6728606503
            ],
            "passed_time": 12.30659855,
            "remaining_time": 20.48913376,
            "test": [
             0.6672450879
            ]
           },
           {
            "iteration": 1750,
            "learn": [
             0.6711733658
            ],
            "passed_time": 14.45805867,
            "remaining_time": 18.57005937,
            "test": [
             0.6650151952
            ]
           },
           {
            "iteration": 2000,
            "learn": [
             0.6695477437
            ],
            "passed_time": 17.52496665,
            "remaining_time": 17.50745045,
            "test": [
             0.6628400396
            ]
           },
           {
            "iteration": 2250,
            "learn": [
             0.6680883975
            ],
            "passed_time": 22.80025132,
            "remaining_time": 17.71552179,
            "test": [
             0.6606596098
            ]
           },
           {
            "iteration": 2500,
            "learn": [
             0.6668586016
            ],
            "passed_time": 24.34924392,
            "remaining_time": 14.59396907,
            "test": [
             0.6584891581
            ]
           },
           {
            "iteration": 2750,
            "learn": [
             0.6657666971
            ],
            "passed_time": 25.68183158,
            "remaining_time": 11.65998097,
            "test": [
             0.6565501984
            ]
           },
           {
            "iteration": 3000,
            "learn": [
             0.6647564336
            ],
            "passed_time": 27.0326824,
            "remaining_time": 8.998883612,
            "test": [
             0.65469142
            ]
           },
           {
            "iteration": 3250,
            "learn": [
             0.663871683
            ],
            "passed_time": 28.36720976,
            "remaining_time": 6.535539867,
            "test": [
             0.653066343
            ]
           },
           {
            "iteration": 3500,
            "learn": [
             0.6630795701
            ],
            "passed_time": 29.70352872,
            "remaining_time": 4.233664905,
            "test": [
             0.6515866613
            ]
           },
           {
            "iteration": 3750,
            "learn": [
             0.6623171657
            ],
            "passed_time": 31.10275591,
            "remaining_time": 2.064672413,
            "test": [
             0.6501816015
            ]
           },
           {
            "iteration": 3999,
            "learn": [
             0.6616551141
            ],
            "passed_time": 32.4422329,
            "remaining_time": 0,
            "test": [
             0.6489240752
            ]
           }
          ],
          "meta": {
           "iteration_count": 4000,
           "launch_mode": "Train",
           "learn_metrics": [
            {
             "best_value": "Min",
             "name": "PairLogit:max_pairs=1000"
            }
           ],
           "learn_sets": [
            "learn"
           ],
           "name": "experiment",
           "parameters": "",
           "test_metrics": [
            {
             "best_value": "Min",
             "name": "PairLogit:max_pairs=1000"
            }
           ],
           "test_sets": [
            "test"
           ]
          }
         },
         "passed_iterations": 3999,
         "total_iterations": 4000
        },
        "name": "catboost_info",
        "path": "catboost_info"
       }
      },
      "layout": "IPY_MODEL_6a3d4492d32a4b8788bc59bdc0c842bb"
     }
    }
   }
  }
 },
 "nbformat": 4,
 "nbformat_minor": 4
}
